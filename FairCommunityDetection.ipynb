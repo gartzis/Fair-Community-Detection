{
 "cells": [
  {
   "cell_type": "code",
   "execution_count": 48,
   "metadata": {},
   "outputs": [],
   "source": [
    "import numpy as np\n",
    "import pandas as pd\n",
    "import matplotlib.pyplot as plt\n",
    "import seaborn as sns\n",
    "import networkx as nx\n",
    "import os"
   ]
  },
  {
   "cell_type": "code",
   "execution_count": 20,
   "metadata": {},
   "outputs": [],
   "source": [
    "path = \"Datasets/\""
   ]
  },
  {
   "cell_type": "code",
   "execution_count": 59,
   "metadata": {},
   "outputs": [],
   "source": [
    "def getProtectedAttributesTwitch(G, df):\n",
    "    protected_attributes = dict(zip(df[\"numeric_id\"], df[\"mature\"]))\n",
    "    newG = nx.set_node_attributes(G, protected_attributes, \"mature\")\n",
    "    return newG\n",
    "    "
   ]
  },
  {
   "cell_type": "code",
   "execution_count": 60,
   "metadata": {},
   "outputs": [],
   "source": [
    "# Twitch gamers Graph\n",
    "twitchGamers_graph = nx.read_edgelist(\"{}twitch_gamers/large_twitch_edges.csv\".format(path), nodetype=int, delimiter=\",\")"
   ]
  },
  {
   "cell_type": "code",
   "execution_count": 61,
   "metadata": {},
   "outputs": [],
   "source": [
    "twitchGamers_features = pd.read_csv(\"{}twitch_gamers/large_twitch_features.csv\".format(path))"
   ]
  },
  {
   "cell_type": "code",
   "execution_count": 62,
   "metadata": {},
   "outputs": [],
   "source": [
    "twitchGamers_graph_WithProtectedAttributes = getProtectedAttributesTwitch(twitchGamers_graph, twitchGamers_features)"
   ]
  },
  {
   "cell_type": "code",
   "execution_count": 66,
   "metadata": {},
   "outputs": [],
   "source": [
    "getProtectedAttributesTwitch(twitchGamers_graph, twitchGamers_features)"
   ]
  },
  {
   "cell_type": "code",
   "execution_count": 52,
   "metadata": {},
   "outputs": [],
   "source": [
    "# Deezer europe Graph\n",
    "deezer_graph = nx.read_edgelist(\"{}deezer_europe/deezer_europe/deezer_europe_edges.csv\".format(path), nodetype=int, delimiter=\",\")"
   ]
  },
  {
   "cell_type": "code",
   "execution_count": 55,
   "metadata": {},
   "outputs": [],
   "source": [
    "# Read Deezer genders\n",
    "deezer_gendersDf = pd.read_csv(\"{}/deezer_europe/deezer_europe/deezer_europe_target.csv\".format(path))"
   ]
  },
  {
   "cell_type": "code",
   "execution_count": 56,
   "metadata": {},
   "outputs": [],
   "source": [
    "deezer_gendersDict = dict(zip(deezer_gendersDf[\"id\"], deezer_gendersDf[\"target\"]))"
   ]
  },
  {
   "cell_type": "code",
   "execution_count": 58,
   "metadata": {},
   "outputs": [],
   "source": [
    "nx.set_node_attributes(G=twitchGamers_graph, name='mature', values=deezer_gendersDict)"
   ]
  },
  {
   "cell_type": "code",
   "execution_count": 22,
   "metadata": {},
   "outputs": [],
   "source": [
    "# Read Twitch Gamers Features\n",
    "twitchGamers_features = pd.read_csv(\"{}twitch_gamers/large_twitch_features.csv\".format(path))\n"
   ]
  },
  {
   "cell_type": "code",
   "execution_count": 23,
   "metadata": {},
   "outputs": [
    {
     "data": {
      "text/html": [
       "<div>\n",
       "<style scoped>\n",
       "    .dataframe tbody tr th:only-of-type {\n",
       "        vertical-align: middle;\n",
       "    }\n",
       "\n",
       "    .dataframe tbody tr th {\n",
       "        vertical-align: top;\n",
       "    }\n",
       "\n",
       "    .dataframe thead th {\n",
       "        text-align: right;\n",
       "    }\n",
       "</style>\n",
       "<table border=\"1\" class=\"dataframe\">\n",
       "  <thead>\n",
       "    <tr style=\"text-align: right;\">\n",
       "      <th></th>\n",
       "      <th>views</th>\n",
       "      <th>mature</th>\n",
       "      <th>life_time</th>\n",
       "      <th>created_at</th>\n",
       "      <th>updated_at</th>\n",
       "      <th>numeric_id</th>\n",
       "      <th>dead_account</th>\n",
       "      <th>language</th>\n",
       "      <th>affiliate</th>\n",
       "    </tr>\n",
       "  </thead>\n",
       "  <tbody>\n",
       "    <tr>\n",
       "      <th>0</th>\n",
       "      <td>7879</td>\n",
       "      <td>1</td>\n",
       "      <td>969</td>\n",
       "      <td>2016-02-16</td>\n",
       "      <td>2018-10-12</td>\n",
       "      <td>0</td>\n",
       "      <td>0</td>\n",
       "      <td>EN</td>\n",
       "      <td>1</td>\n",
       "    </tr>\n",
       "    <tr>\n",
       "      <th>1</th>\n",
       "      <td>500</td>\n",
       "      <td>0</td>\n",
       "      <td>2699</td>\n",
       "      <td>2011-05-19</td>\n",
       "      <td>2018-10-08</td>\n",
       "      <td>1</td>\n",
       "      <td>0</td>\n",
       "      <td>EN</td>\n",
       "      <td>0</td>\n",
       "    </tr>\n",
       "    <tr>\n",
       "      <th>2</th>\n",
       "      <td>382502</td>\n",
       "      <td>1</td>\n",
       "      <td>3149</td>\n",
       "      <td>2010-02-27</td>\n",
       "      <td>2018-10-12</td>\n",
       "      <td>2</td>\n",
       "      <td>0</td>\n",
       "      <td>EN</td>\n",
       "      <td>1</td>\n",
       "    </tr>\n",
       "    <tr>\n",
       "      <th>3</th>\n",
       "      <td>386</td>\n",
       "      <td>0</td>\n",
       "      <td>1344</td>\n",
       "      <td>2015-01-26</td>\n",
       "      <td>2018-10-01</td>\n",
       "      <td>3</td>\n",
       "      <td>0</td>\n",
       "      <td>EN</td>\n",
       "      <td>0</td>\n",
       "    </tr>\n",
       "    <tr>\n",
       "      <th>4</th>\n",
       "      <td>2486</td>\n",
       "      <td>0</td>\n",
       "      <td>1784</td>\n",
       "      <td>2013-11-22</td>\n",
       "      <td>2018-10-11</td>\n",
       "      <td>4</td>\n",
       "      <td>0</td>\n",
       "      <td>EN</td>\n",
       "      <td>0</td>\n",
       "    </tr>\n",
       "    <tr>\n",
       "      <th>...</th>\n",
       "      <td>...</td>\n",
       "      <td>...</td>\n",
       "      <td>...</td>\n",
       "      <td>...</td>\n",
       "      <td>...</td>\n",
       "      <td>...</td>\n",
       "      <td>...</td>\n",
       "      <td>...</td>\n",
       "      <td>...</td>\n",
       "    </tr>\n",
       "    <tr>\n",
       "      <th>168109</th>\n",
       "      <td>4965</td>\n",
       "      <td>0</td>\n",
       "      <td>810</td>\n",
       "      <td>2016-07-20</td>\n",
       "      <td>2018-10-08</td>\n",
       "      <td>168109</td>\n",
       "      <td>0</td>\n",
       "      <td>EN</td>\n",
       "      <td>0</td>\n",
       "    </tr>\n",
       "    <tr>\n",
       "      <th>168110</th>\n",
       "      <td>4128</td>\n",
       "      <td>1</td>\n",
       "      <td>2080</td>\n",
       "      <td>2013-01-31</td>\n",
       "      <td>2018-10-12</td>\n",
       "      <td>168110</td>\n",
       "      <td>0</td>\n",
       "      <td>EN</td>\n",
       "      <td>0</td>\n",
       "    </tr>\n",
       "    <tr>\n",
       "      <th>168111</th>\n",
       "      <td>3545</td>\n",
       "      <td>0</td>\n",
       "      <td>1797</td>\n",
       "      <td>2013-11-08</td>\n",
       "      <td>2018-10-10</td>\n",
       "      <td>168111</td>\n",
       "      <td>0</td>\n",
       "      <td>EN</td>\n",
       "      <td>1</td>\n",
       "    </tr>\n",
       "    <tr>\n",
       "      <th>168112</th>\n",
       "      <td>892736</td>\n",
       "      <td>1</td>\n",
       "      <td>2135</td>\n",
       "      <td>2012-12-07</td>\n",
       "      <td>2018-10-12</td>\n",
       "      <td>168112</td>\n",
       "      <td>0</td>\n",
       "      <td>EN</td>\n",
       "      <td>0</td>\n",
       "    </tr>\n",
       "    <tr>\n",
       "      <th>168113</th>\n",
       "      <td>791</td>\n",
       "      <td>0</td>\n",
       "      <td>2005</td>\n",
       "      <td>2013-01-22</td>\n",
       "      <td>2018-07-20</td>\n",
       "      <td>168113</td>\n",
       "      <td>0</td>\n",
       "      <td>EN</td>\n",
       "      <td>0</td>\n",
       "    </tr>\n",
       "  </tbody>\n",
       "</table>\n",
       "<p>168114 rows × 9 columns</p>\n",
       "</div>"
      ],
      "text/plain": [
       "         views  mature  life_time  created_at  updated_at  numeric_id  \\\n",
       "0         7879       1        969  2016-02-16  2018-10-12           0   \n",
       "1          500       0       2699  2011-05-19  2018-10-08           1   \n",
       "2       382502       1       3149  2010-02-27  2018-10-12           2   \n",
       "3          386       0       1344  2015-01-26  2018-10-01           3   \n",
       "4         2486       0       1784  2013-11-22  2018-10-11           4   \n",
       "...        ...     ...        ...         ...         ...         ...   \n",
       "168109    4965       0        810  2016-07-20  2018-10-08      168109   \n",
       "168110    4128       1       2080  2013-01-31  2018-10-12      168110   \n",
       "168111    3545       0       1797  2013-11-08  2018-10-10      168111   \n",
       "168112  892736       1       2135  2012-12-07  2018-10-12      168112   \n",
       "168113     791       0       2005  2013-01-22  2018-07-20      168113   \n",
       "\n",
       "        dead_account language  affiliate  \n",
       "0                  0       EN          1  \n",
       "1                  0       EN          0  \n",
       "2                  0       EN          1  \n",
       "3                  0       EN          0  \n",
       "4                  0       EN          0  \n",
       "...              ...      ...        ...  \n",
       "168109             0       EN          0  \n",
       "168110             0       EN          0  \n",
       "168111             0       EN          1  \n",
       "168112             0       EN          0  \n",
       "168113             0       EN          0  \n",
       "\n",
       "[168114 rows x 9 columns]"
      ]
     },
     "execution_count": 23,
     "metadata": {},
     "output_type": "execute_result"
    }
   ],
   "source": [
    "twitchGamers_features"
   ]
  },
  {
   "cell_type": "code",
   "execution_count": 24,
   "metadata": {},
   "outputs": [],
   "source": [
    "twitchGamers_features = twitchGamers_features[[\"mature\",\"numeric_id\"]]"
   ]
  },
  {
   "cell_type": "code",
   "execution_count": 25,
   "metadata": {},
   "outputs": [
    {
     "data": {
      "text/html": [
       "<div>\n",
       "<style scoped>\n",
       "    .dataframe tbody tr th:only-of-type {\n",
       "        vertical-align: middle;\n",
       "    }\n",
       "\n",
       "    .dataframe tbody tr th {\n",
       "        vertical-align: top;\n",
       "    }\n",
       "\n",
       "    .dataframe thead th {\n",
       "        text-align: right;\n",
       "    }\n",
       "</style>\n",
       "<table border=\"1\" class=\"dataframe\">\n",
       "  <thead>\n",
       "    <tr style=\"text-align: right;\">\n",
       "      <th></th>\n",
       "      <th>mature</th>\n",
       "      <th>numeric_id</th>\n",
       "    </tr>\n",
       "  </thead>\n",
       "  <tbody>\n",
       "    <tr>\n",
       "      <th>0</th>\n",
       "      <td>1</td>\n",
       "      <td>0</td>\n",
       "    </tr>\n",
       "    <tr>\n",
       "      <th>1</th>\n",
       "      <td>0</td>\n",
       "      <td>1</td>\n",
       "    </tr>\n",
       "    <tr>\n",
       "      <th>2</th>\n",
       "      <td>1</td>\n",
       "      <td>2</td>\n",
       "    </tr>\n",
       "    <tr>\n",
       "      <th>3</th>\n",
       "      <td>0</td>\n",
       "      <td>3</td>\n",
       "    </tr>\n",
       "    <tr>\n",
       "      <th>4</th>\n",
       "      <td>0</td>\n",
       "      <td>4</td>\n",
       "    </tr>\n",
       "    <tr>\n",
       "      <th>...</th>\n",
       "      <td>...</td>\n",
       "      <td>...</td>\n",
       "    </tr>\n",
       "    <tr>\n",
       "      <th>168109</th>\n",
       "      <td>0</td>\n",
       "      <td>168109</td>\n",
       "    </tr>\n",
       "    <tr>\n",
       "      <th>168110</th>\n",
       "      <td>1</td>\n",
       "      <td>168110</td>\n",
       "    </tr>\n",
       "    <tr>\n",
       "      <th>168111</th>\n",
       "      <td>0</td>\n",
       "      <td>168111</td>\n",
       "    </tr>\n",
       "    <tr>\n",
       "      <th>168112</th>\n",
       "      <td>1</td>\n",
       "      <td>168112</td>\n",
       "    </tr>\n",
       "    <tr>\n",
       "      <th>168113</th>\n",
       "      <td>0</td>\n",
       "      <td>168113</td>\n",
       "    </tr>\n",
       "  </tbody>\n",
       "</table>\n",
       "<p>168114 rows × 2 columns</p>\n",
       "</div>"
      ],
      "text/plain": [
       "        mature  numeric_id\n",
       "0            1           0\n",
       "1            0           1\n",
       "2            1           2\n",
       "3            0           3\n",
       "4            0           4\n",
       "...        ...         ...\n",
       "168109       0      168109\n",
       "168110       1      168110\n",
       "168111       0      168111\n",
       "168112       1      168112\n",
       "168113       0      168113\n",
       "\n",
       "[168114 rows x 2 columns]"
      ]
     },
     "execution_count": 25,
     "metadata": {},
     "output_type": "execute_result"
    }
   ],
   "source": [
    "twitchGamers_features"
   ]
  },
  {
   "cell_type": "code",
   "execution_count": 26,
   "metadata": {},
   "outputs": [],
   "source": [
    "twitchGamersDict =  dict(zip(twitchGamers_features[\"numeric_id\"],twitchGamers_features[\"mature\"]))"
   ]
  },
  {
   "cell_type": "code",
   "execution_count": 27,
   "metadata": {},
   "outputs": [],
   "source": [
    "nx.set_node_attributes(G=twitchGamers_graph, name='mature', values=twitchGamersDict)"
   ]
  },
  {
   "cell_type": "code",
   "execution_count": 37,
   "metadata": {},
   "outputs": [],
   "source": [
    "listNodes = twitchGamers_graph.nodes()"
   ]
  },
  {
   "cell_type": "code",
   "execution_count": 46,
   "metadata": {},
   "outputs": [
    {
     "data": {
      "text/plain": [
       "{'mature': 0}"
      ]
     },
     "execution_count": 46,
     "metadata": {},
     "output_type": "execute_result"
    }
   ],
   "source": [
    "listNodes[4]"
   ]
  }
 ],
 "metadata": {
  "interpreter": {
   "hash": "b2a152c9c8174e8f19b1600c749953c43c503b31f710d00df083fd6ee6632082"
  },
  "kernelspec": {
   "display_name": "Python 3.9.7 ('base')",
   "language": "python",
   "name": "python3"
  },
  "language_info": {
   "codemirror_mode": {
    "name": "ipython",
    "version": 3
   },
   "file_extension": ".py",
   "mimetype": "text/x-python",
   "name": "python",
   "nbconvert_exporter": "python",
   "pygments_lexer": "ipython3",
   "version": "3.9.7"
  },
  "orig_nbformat": 4
 },
 "nbformat": 4,
 "nbformat_minor": 2
}
