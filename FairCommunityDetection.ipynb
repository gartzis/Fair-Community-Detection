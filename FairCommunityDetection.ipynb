{
 "cells": [
  {
   "cell_type": "code",
   "execution_count": 1,
   "metadata": {},
   "outputs": [
    {
     "name": "stderr",
     "output_type": "stream",
     "text": [
      "c:\\Users\\konst\\anaconda3\\lib\\site-packages\\gensim\\similarities\\__init__.py:15: UserWarning: The gensim.similarities.levenshtein submodule is disabled, because the optional Levenshtein package <https://pypi.org/project/python-Levenshtein/> is unavailable. Install Levenhstein (e.g. `pip install python-Levenshtein`) to suppress this warning.\n",
      "  warnings.warn(msg)\n"
     ]
    }
   ],
   "source": [
    "import numpy as np\n",
    "import pandas as pd\n",
    "import matplotlib.pyplot as plt\n",
    "import seaborn as sns\n",
    "import networkx as nx\n",
    "import os\n",
    "import glob\n",
    "import node2vec"
   ]
  },
  {
   "cell_type": "code",
   "execution_count": 2,
   "metadata": {},
   "outputs": [],
   "source": [
    "path = \"Datasets/\""
   ]
  },
  {
   "cell_type": "code",
   "execution_count": 3,
   "metadata": {},
   "outputs": [],
   "source": [
    "def getProtectedAttributesTwitch(G, df):\n",
    "    protected_attributes = dict(zip(df[\"numeric_id\"], df[\"mature\"]))\n",
    "    newG = nx.set_node_attributes(G, protected_attributes, \"mature\")\n",
    "    return newG\n",
    "\n",
    "def getProtectedAttributesDeezer(G, df):\n",
    "    protected_attributes = dict(zip(df[\"id\"], df[\"target\"]))\n",
    "    newG = nx.set_node_attributes(G, protected_attributes, \"gender\")\n",
    "    return newG\n",
    "\n",
    "def getProtectedAttributesPokec(G,df):\n",
    "    protected_attributes = dict(zip(df[0], df[3]))\n",
    "    newG = nx.set_node_attributes(G, protected_attributes, \"gender\")\n",
    "    return newG\n",
    "\n",
    "def getprotectedAttributesDict_Facebook(featuresDF,featureNameDF,egoFeatDF):\n",
    "    gender_index = featureNameDF.index[featureNameDF[1] == \"gender;anonymized\"].to_list()[0]\n",
    "    featuresDF = featuresDF[[0, gender_index + 1]]\n",
    "    egoFeatDF = egoFeatDF[[0, gender_index + 1]]\n",
    "    featuresDict = dict(zip(featuresDF[0], featuresDF[gender_index + 1]))\n",
    "    egoFeatDict = dict(zip(egoFeatDF[0], egoFeatDF[gender_index + 1]))\n",
    "    featuresDict.update(egoFeatDict)\n",
    "    return featuresDict\n",
    "\n",
    "def getEgoFeats(path):\n",
    "    featFiles = []\n",
    "    featNameFiles = []\n",
    "    egoFeatFiles = []\n",
    "    for file in os.listdir(path):\n",
    "        if file.endswith(\".feat\"):\n",
    "            featFiles.append(file)\n",
    "        if file.endswith(\".featnames\"):\n",
    "            featNameFiles.append(file)\n",
    "        if file.endswith(\".egofeat\"):\n",
    "            egoFeatFiles.append(file)\n",
    "    return featFiles, featNameFiles, egoFeatFiles\n",
    "\n",
    "def getProtectedAttributesFacebook(G):\n",
    "    node_gender_dict = {}\n",
    "    localpath = \"Datasets/facebook/facebook/\"\n",
    "    fbFeatFiles, fbFeatNameFiles, fbEgoFeatFiles = getEgoFeats(localpath)\n",
    "    for index in range(len(fbFeatFiles)):\n",
    "        localFeaturesDF = pd.read_csv(localpath + fbFeatFiles[index], sep=\" \", header=None)\n",
    "        localFeatureNamesDf = pd.read_csv(localpath + fbFeatNameFiles[index], sep=\" \", header=None)\n",
    "        localEgoFeatDf = pd.read_csv(localpath + fbEgoFeatFiles[index], sep=\" \", header=None)\n",
    "        protectedAttrDict = getprotectedAttributesDict_Facebook(localFeaturesDF, localFeatureNamesDf, localEgoFeatDf)\n",
    "        node_gender_dict.update(protectedAttrDict)\n",
    "    \n",
    "    newG = nx.set_node_attributes(G, node_gender_dict, \"gender\")\n",
    "    return newG\n"
   ]
  },
  {
   "cell_type": "code",
   "execution_count": 4,
   "metadata": {},
   "outputs": [],
   "source": [
    "# Twitch gamers Graph\n",
    "twitchGamers_graph = nx.read_edgelist(\"{}twitch_gamers/large_twitch_edges.csv\".format(path), nodetype=int, delimiter=\",\")"
   ]
  },
  {
   "cell_type": "code",
   "execution_count": 5,
   "metadata": {},
   "outputs": [],
   "source": [
    "# Twitch gamers features\n",
    "twitchGamers_features = pd.read_csv(\"{}twitch_gamers/large_twitch_features.csv\".format(path))"
   ]
  },
  {
   "cell_type": "code",
   "execution_count": 6,
   "metadata": {},
   "outputs": [],
   "source": [
    "getProtectedAttributesTwitch(twitchGamers_graph, twitchGamers_features)"
   ]
  },
  {
   "cell_type": "code",
   "execution_count": 7,
   "metadata": {},
   "outputs": [],
   "source": [
    "# Deezer europe graph\n",
    "deezer_graph = nx.read_edgelist(\"{}deezer_europe/deezer_europe/deezer_europe_edges.csv\".format(path), nodetype=int, delimiter=\",\")"
   ]
  },
  {
   "cell_type": "code",
   "execution_count": 8,
   "metadata": {},
   "outputs": [],
   "source": [
    "# Read Deezer genders\n",
    "deezer_gendersDf = pd.read_csv(\"{}/deezer_europe/deezer_europe/deezer_europe_target.csv\".format(path))"
   ]
  },
  {
   "cell_type": "code",
   "execution_count": 9,
   "metadata": {},
   "outputs": [],
   "source": [
    "getProtectedAttributesDeezer(deezer_graph, deezer_gendersDf)"
   ]
  },
  {
   "cell_type": "code",
   "execution_count": 10,
   "metadata": {},
   "outputs": [],
   "source": [
    "pokec_graph = nx.read_edgelist(\"{}/pokec/soc-pokec-relationships.txt\".format(path), nodetype=int, delimiter=\"\\t\", create_using=nx.DiGraph())"
   ]
  },
  {
   "cell_type": "code",
   "execution_count": 11,
   "metadata": {},
   "outputs": [],
   "source": [
    "pokec_features = pd.read_csv(\"{}/pokec/soc-pokec-profiles.txt\".format(path), delimiter=\"\\t\", header=None, usecols=[0,3])"
   ]
  },
  {
   "cell_type": "code",
   "execution_count": 12,
   "metadata": {},
   "outputs": [],
   "source": [
    "getProtectedAttributesPokec(pokec_graph, pokec_features)"
   ]
  },
  {
   "cell_type": "code",
   "execution_count": 13,
   "metadata": {},
   "outputs": [],
   "source": [
    "facebook_graph_all = nx.read_edgelist(\"{}facebook/facebook/facebook_combined.txt\".format(path), nodetype=int, delimiter=\" \")"
   ]
  },
  {
   "cell_type": "code",
   "execution_count": 14,
   "metadata": {},
   "outputs": [],
   "source": [
    "getProtectedAttributesFacebook(facebook_graph_all)"
   ]
  }
 ],
 "metadata": {
  "interpreter": {
   "hash": "b2a152c9c8174e8f19b1600c749953c43c503b31f710d00df083fd6ee6632082"
  },
  "kernelspec": {
   "display_name": "Python 3.9.7 ('base')",
   "language": "python",
   "name": "python3"
  },
  "language_info": {
   "codemirror_mode": {
    "name": "ipython",
    "version": 3
   },
   "file_extension": ".py",
   "mimetype": "text/x-python",
   "name": "python",
   "nbconvert_exporter": "python",
   "pygments_lexer": "ipython3",
   "version": "3.9.7"
  },
  "orig_nbformat": 4
 },
 "nbformat": 4,
 "nbformat_minor": 2
}
