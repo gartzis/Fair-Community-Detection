{
 "cells": [
  {
   "cell_type": "code",
   "execution_count": 1,
   "metadata": {},
   "outputs": [],
   "source": [
    "import numpy as np\n",
    "import pandas as pd\n",
    "import matplotlib.pyplot as plt\n",
    "import seaborn as sns\n",
    "import networkx as nx\n",
    "import os\n",
    "import glob\n",
    "import itertools"
   ]
  },
  {
   "cell_type": "code",
   "execution_count": 2,
   "metadata": {},
   "outputs": [],
   "source": [
    "path = \"Datasets/\""
   ]
  },
  {
   "cell_type": "code",
   "execution_count": 3,
   "metadata": {},
   "outputs": [],
   "source": [
    "def getProtectedAttributesTwitch(G, df):\n",
    "    protected_attributes = dict(zip(df[\"numeric_id\"], df[\"mature\"]))\n",
    "    newG = nx.set_node_attributes(G, protected_attributes, \"mature\")\n",
    "    return newG\n",
    "\n",
    "def getProtectedAttributesDeezer(G, df):\n",
    "    protected_attributes = dict(zip(df[\"id\"], df[\"target\"]))\n",
    "    newG = nx.set_node_attributes(G, protected_attributes, \"gender\")\n",
    "    return newG\n",
    "\n",
    "def getProtectedAttributesPokec(G,df):\n",
    "    protected_attributes = dict(zip(df[0], df[3]))\n",
    "    newG = nx.set_node_attributes(G, protected_attributes, \"gender\")\n",
    "    return newG\n",
    "\n",
    "def getprotectedAttributesDict_Facebook(featuresDF,featureNameDF,egoFeatDF):\n",
    "    gender_index = featureNameDF.index[featureNameDF[1] == \"gender;anonymized\"].to_list()[0]\n",
    "    featuresDF = featuresDF[[0, gender_index + 1]]\n",
    "    egoFeatDF = egoFeatDF[[0, gender_index + 1]]\n",
    "    featuresDict = dict(zip(featuresDF[0], featuresDF[gender_index + 1]))\n",
    "    egoFeatDict = dict(zip(egoFeatDF[0], egoFeatDF[gender_index + 1]))\n",
    "    featuresDict.update(egoFeatDict)\n",
    "    return featuresDict\n",
    "\n",
    "def getEgoFeats(path):\n",
    "    featFiles = []\n",
    "    featNameFiles = []\n",
    "    egoFeatFiles = []\n",
    "    for file in os.listdir(path):\n",
    "        if file.endswith(\".feat\"):\n",
    "            featFiles.append(file)\n",
    "        if file.endswith(\".featnames\"):\n",
    "            featNameFiles.append(file)\n",
    "        if file.endswith(\".egofeat\"):\n",
    "            egoFeatFiles.append(file)\n",
    "    return featFiles, featNameFiles, egoFeatFiles\n",
    "\n",
    "def getProtectedAttributesFacebook(G):\n",
    "    node_gender_dict = {}\n",
    "    localpath = \"Datasets/facebook/facebook/\"\n",
    "    fbFeatFiles, fbFeatNameFiles, fbEgoFeatFiles = getEgoFeats(localpath)\n",
    "    for index in range(len(fbFeatFiles)):\n",
    "        localFeaturesDF = pd.read_csv(localpath + fbFeatFiles[index], sep=\" \", header=None)\n",
    "        localFeatureNamesDf = pd.read_csv(localpath + fbFeatNameFiles[index], sep=\" \", header=None)\n",
    "        localEgoFeatDf = pd.read_csv(localpath + fbEgoFeatFiles[index], sep=\" \", header=None)\n",
    "        protectedAttrDict = getprotectedAttributesDict_Facebook(localFeaturesDF, localFeatureNamesDf, localEgoFeatDf)\n",
    "        node_gender_dict.update(protectedAttrDict)\n",
    "    \n",
    "    newG = nx.set_node_attributes(G, node_gender_dict, \"gender\")\n",
    "    return newG\n"
   ]
  },
  {
   "cell_type": "code",
   "execution_count": 84,
   "metadata": {},
   "outputs": [],
   "source": [
    "def initialize_community_attribute_Counter(communitiesList):\n",
    "    protectedAttributeCountDict = {}\n",
    "    communityCount = 0\n",
    "    for i in range(len(communitiesList)):\n",
    "        protectedAttributeCountDict[\"Community_{}\".format(communityCount)] = {0: 0, 1: 0}\n",
    "        communityCount += 1\n",
    "    return protectedAttributeCountDict\n",
    "\n",
    "def count_protected_attributes_frequency(communitiesList, protectedAttributeCountDict):\n",
    "    communityCount = 0\n",
    "    for community in communitiesList:\n",
    "        for node in community:\n",
    "            if twitchGamers_graph.nodes()[node][\"mature\"] == 0:\n",
    "                protectedAttributeCountDict[\"Community_{}\".format(communityCount)][0] += 1\n",
    "            else:\n",
    "                protectedAttributeCountDict[\"Community_{}\".format(communityCount)][1] += 1\n",
    "        communityCount += 1\n",
    "    return protectedAttributeCountDict\n",
    "\n",
    "def calculate_community_balance(protectedAttributeCountDict):\n",
    "    for x in protectedAttributeCountDict:\n",
    "        red = protectedAttributeCountDict[x][0]\n",
    "        blue = protectedAttributeCountDict[x][1]\n",
    "        if red > blue:\n",
    "            balance = blue/red\n",
    "            protectedAttributeCountDict[x][\"balance\"] = balance\n",
    "        else:\n",
    "            balance = red/blue\n",
    "            protectedAttributeCountDict[x][\"balance\"] = balance\n",
    "    return protectedAttributeCountDict\n",
    "\n",
    "def calculate_Fairness(communitiesList):\n",
    "    \n",
    "    protectedAttributeCountDict = initialize_community_attribute_Counter(communitiesList)\n",
    "\n",
    "    protectedAttributeCountDict = count_protected_attributes_frequency(communitiesList, protectedAttributeCountDict)\n",
    "        \n",
    "    protectedAttributeCountDict = calculate_community_balance(protectedAttributeCountDict)\n",
    "\n",
    "    return protectedAttributeCountDict"
   ]
  },
  {
   "cell_type": "code",
   "execution_count": 4,
   "metadata": {},
   "outputs": [],
   "source": [
    "# Twitch gamers Graph\n",
    "twitchGamers_graph = nx.read_edgelist(\"{}twitch_gamers/large_twitch_edges.csv\".format(path), nodetype=int, delimiter=\",\")"
   ]
  },
  {
   "cell_type": "code",
   "execution_count": 5,
   "metadata": {},
   "outputs": [],
   "source": [
    "# Twitch gamers features\n",
    "twitchGamers_features = pd.read_csv(\"{}twitch_gamers/large_twitch_features.csv\".format(path))"
   ]
  },
  {
   "cell_type": "code",
   "execution_count": 6,
   "metadata": {},
   "outputs": [],
   "source": [
    "getProtectedAttributesTwitch(twitchGamers_graph, twitchGamers_features)"
   ]
  },
  {
   "cell_type": "code",
   "execution_count": 13,
   "metadata": {},
   "outputs": [],
   "source": [
    "twitchGamersCC = max(nx.connected_components(twitchGamers_graph), key=len)\n",
    "twitchGamersCCGraph = twitchGamers_graph.subgraph(twitchGamersCC)"
   ]
  },
  {
   "cell_type": "code",
   "execution_count": 14,
   "metadata": {},
   "outputs": [],
   "source": [
    "# 11m 35.7s execution time\n",
    "twitchGamersCCGraphComms = nx.community.label_propagation.label_propagation_communities(twitchGamersCCGraph)"
   ]
  },
  {
   "cell_type": "code",
   "execution_count": 30,
   "metadata": {},
   "outputs": [],
   "source": [
    "#maybe get the top 5 communities?\n",
    "twitchLabelPropagationList = list(twitchGamersCCGraphComms)"
   ]
  },
  {
   "cell_type": "code",
   "execution_count": 85,
   "metadata": {},
   "outputs": [],
   "source": [
    "genderCountTwitch = {}\n",
    "genderCountTwitch = calculate_Fairness(twitchLabelPropagationList)"
   ]
  },
  {
   "cell_type": "code",
   "execution_count": 86,
   "metadata": {},
   "outputs": [
    {
     "data": {
      "text/plain": [
       "{'Community_0': {0: 83131, 1: 76960, 'balance': 0.9257677641313108},\n",
       " 'Community_1': {0: 1563, 1: 1017, 'balance': 0.6506717850287908},\n",
       " 'Community_2': {0: 2366, 1: 777, 'balance': 0.32840236686390534},\n",
       " 'Community_3': {0: 473, 1: 135, 'balance': 0.2854122621564482},\n",
       " 'Community_4': {0: 2, 1: 0, 'balance': 0.0},\n",
       " 'Community_5': {0: 580, 1: 53, 'balance': 0.09137931034482759},\n",
       " 'Community_6': {0: 854, 1: 44, 'balance': 0.05152224824355972},\n",
       " 'Community_7': {0: 1, 1: 1, 'balance': 1.0},\n",
       " 'Community_8': {0: 0, 1: 2, 'balance': 0.0},\n",
       " 'Community_9': {0: 2, 1: 0, 'balance': 0.0},\n",
       " 'Community_10': {0: 1, 1: 1, 'balance': 1.0},\n",
       " 'Community_11': {0: 0, 1: 2, 'balance': 0.0},\n",
       " 'Community_12': {0: 2, 1: 0, 'balance': 0.0},\n",
       " 'Community_13': {0: 6, 1: 0, 'balance': 0.0},\n",
       " 'Community_14': {0: 2, 1: 0, 'balance': 0.0},\n",
       " 'Community_15': {0: 4, 1: 0, 'balance': 0.0},\n",
       " 'Community_16': {0: 2, 1: 0, 'balance': 0.0},\n",
       " 'Community_17': {0: 2, 1: 1, 'balance': 0.5},\n",
       " 'Community_18': {0: 1, 1: 1, 'balance': 1.0},\n",
       " 'Community_19': {0: 1, 1: 1, 'balance': 1.0},\n",
       " 'Community_20': {0: 2, 1: 0, 'balance': 0.0},\n",
       " 'Community_21': {0: 1, 1: 1, 'balance': 1.0},\n",
       " 'Community_22': {0: 1, 1: 1, 'balance': 1.0},\n",
       " 'Community_23': {0: 3, 1: 0, 'balance': 0.0},\n",
       " 'Community_24': {0: 3, 1: 0, 'balance': 0.0},\n",
       " 'Community_25': {0: 2, 1: 0, 'balance': 0.0},\n",
       " 'Community_26': {0: 1, 1: 1, 'balance': 1.0},\n",
       " 'Community_27': {0: 0, 1: 2, 'balance': 0.0},\n",
       " 'Community_28': {0: 0, 1: 2, 'balance': 0.0},\n",
       " 'Community_29': {0: 2, 1: 0, 'balance': 0.0},\n",
       " 'Community_30': {0: 3, 1: 0, 'balance': 0.0},\n",
       " 'Community_31': {0: 2, 1: 0, 'balance': 0.0},\n",
       " 'Community_32': {0: 1, 1: 1, 'balance': 1.0},\n",
       " 'Community_33': {0: 1, 1: 1, 'balance': 1.0},\n",
       " 'Community_34': {0: 1, 1: 1, 'balance': 1.0},\n",
       " 'Community_35': {0: 3, 1: 0, 'balance': 0.0},\n",
       " 'Community_36': {0: 2, 1: 0, 'balance': 0.0},\n",
       " 'Community_37': {0: 0, 1: 2, 'balance': 0.0},\n",
       " 'Community_38': {0: 1, 1: 1, 'balance': 1.0},\n",
       " 'Community_39': {0: 1, 1: 1, 'balance': 1.0},\n",
       " 'Community_40': {0: 0, 1: 2, 'balance': 0.0},\n",
       " 'Community_41': {0: 2, 1: 0, 'balance': 0.0},\n",
       " 'Community_42': {0: 1, 1: 1, 'balance': 1.0},\n",
       " 'Community_43': {0: 2, 1: 0, 'balance': 0.0},\n",
       " 'Community_44': {0: 2, 1: 0, 'balance': 0.0},\n",
       " 'Community_45': {0: 2, 1: 0, 'balance': 0.0},\n",
       " 'Community_46': {0: 2, 1: 0, 'balance': 0.0},\n",
       " 'Community_47': {0: 0, 1: 2, 'balance': 0.0},\n",
       " 'Community_48': {0: 2, 1: 0, 'balance': 0.0},\n",
       " 'Community_49': {0: 3, 1: 0, 'balance': 0.0},\n",
       " 'Community_50': {0: 4, 1: 0, 'balance': 0.0},\n",
       " 'Community_51': {0: 1, 1: 1, 'balance': 1.0},\n",
       " 'Community_52': {0: 1, 1: 1, 'balance': 1.0},\n",
       " 'Community_53': {0: 0, 1: 2, 'balance': 0.0},\n",
       " 'Community_54': {0: 3, 1: 0, 'balance': 0.0},\n",
       " 'Community_55': {0: 2, 1: 0, 'balance': 0.0},\n",
       " 'Community_56': {0: 2, 1: 0, 'balance': 0.0},\n",
       " 'Community_57': {0: 2, 1: 0, 'balance': 0.0},\n",
       " 'Community_58': {0: 1, 1: 1, 'balance': 1.0},\n",
       " 'Community_59': {0: 1, 1: 1, 'balance': 1.0},\n",
       " 'Community_60': {0: 0, 1: 2, 'balance': 0.0},\n",
       " 'Community_61': {0: 0, 1: 2, 'balance': 0.0},\n",
       " 'Community_62': {0: 2, 1: 0, 'balance': 0.0},\n",
       " 'Community_63': {0: 2, 1: 0, 'balance': 0.0},\n",
       " 'Community_64': {0: 2, 1: 0, 'balance': 0.0},\n",
       " 'Community_65': {0: 2, 1: 0, 'balance': 0.0},\n",
       " 'Community_66': {0: 2, 1: 0, 'balance': 0.0},\n",
       " 'Community_67': {0: 1, 1: 1, 'balance': 1.0},\n",
       " 'Community_68': {0: 0, 1: 2, 'balance': 0.0},\n",
       " 'Community_69': {0: 2, 1: 0, 'balance': 0.0},\n",
       " 'Community_70': {0: 2, 1: 0, 'balance': 0.0},\n",
       " 'Community_71': {0: 2, 1: 0, 'balance': 0.0},\n",
       " 'Community_72': {0: 1, 1: 1, 'balance': 1.0},\n",
       " 'Community_73': {0: 0, 1: 2, 'balance': 0.0},\n",
       " 'Community_74': {0: 2, 1: 0, 'balance': 0.0},\n",
       " 'Community_75': {0: 0, 1: 2, 'balance': 0.0},\n",
       " 'Community_76': {0: 2, 1: 0, 'balance': 0.0},\n",
       " 'Community_77': {0: 2, 1: 0, 'balance': 0.0},\n",
       " 'Community_78': {0: 1, 1: 1, 'balance': 1.0}}"
      ]
     },
     "execution_count": 86,
     "metadata": {},
     "output_type": "execute_result"
    }
   ],
   "source": [
    "genderCountTwitch"
   ]
  },
  {
   "cell_type": "code",
   "execution_count": 8,
   "metadata": {},
   "outputs": [],
   "source": [
    "# Deezer europe graph\n",
    "deezer_graph = nx.read_edgelist(\"{}deezer_europe/deezer_europe/deezer_europe_edges.csv\".format(path), nodetype=int, delimiter=\",\")"
   ]
  },
  {
   "cell_type": "code",
   "execution_count": 9,
   "metadata": {},
   "outputs": [],
   "source": [
    "# Read Deezer genders\n",
    "deezer_gendersDf = pd.read_csv(\"{}/deezer_europe/deezer_europe/deezer_europe_target.csv\".format(path))"
   ]
  },
  {
   "cell_type": "code",
   "execution_count": 10,
   "metadata": {},
   "outputs": [],
   "source": [
    "getProtectedAttributesDeezer(deezer_graph, deezer_gendersDf)"
   ]
  },
  {
   "cell_type": "code",
   "execution_count": 11,
   "metadata": {},
   "outputs": [],
   "source": [
    "pokec_graph = nx.read_edgelist(\"{}/pokec/soc-pokec-relationships.txt\".format(path), nodetype=int, delimiter=\"\\t\", create_using=nx.DiGraph())"
   ]
  },
  {
   "cell_type": "code",
   "execution_count": 12,
   "metadata": {},
   "outputs": [],
   "source": [
    "pokec_features = pd.read_csv(\"{}/pokec/soc-pokec-profiles.txt\".format(path), delimiter=\"\\t\", header=None, usecols=[0,3])"
   ]
  },
  {
   "cell_type": "code",
   "execution_count": 13,
   "metadata": {},
   "outputs": [],
   "source": [
    "getProtectedAttributesPokec(pokec_graph, pokec_features)"
   ]
  },
  {
   "cell_type": "code",
   "execution_count": 37,
   "metadata": {},
   "outputs": [],
   "source": [
    "facebook_graph_all = nx.read_edgelist(\"{}facebook/facebook/facebook_combined.txt\".format(path), nodetype=int, delimiter=\" \")"
   ]
  },
  {
   "cell_type": "code",
   "execution_count": 5,
   "metadata": {},
   "outputs": [],
   "source": [
    "getProtectedAttributesFacebook(facebook_graph_all)"
   ]
  }
 ],
 "metadata": {
  "interpreter": {
   "hash": "b2a152c9c8174e8f19b1600c749953c43c503b31f710d00df083fd6ee6632082"
  },
  "kernelspec": {
   "display_name": "Python 3.9.7 ('base')",
   "language": "python",
   "name": "python3"
  },
  "language_info": {
   "codemirror_mode": {
    "name": "ipython",
    "version": 3
   },
   "file_extension": ".py",
   "mimetype": "text/x-python",
   "name": "python",
   "nbconvert_exporter": "python",
   "pygments_lexer": "ipython3",
   "version": "3.9.7"
  },
  "orig_nbformat": 4
 },
 "nbformat": 4,
 "nbformat_minor": 2
}
