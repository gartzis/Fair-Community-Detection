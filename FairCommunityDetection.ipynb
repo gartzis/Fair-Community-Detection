{
 "cells": [
  {
   "cell_type": "code",
   "execution_count": 1,
   "metadata": {},
   "outputs": [],
   "source": [
    "import numpy as np\n",
    "import pandas as pd\n",
    "import matplotlib.pyplot as plt\n",
    "import seaborn as sns\n",
    "import networkx as nx\n",
    "import os\n",
    "import glob\n",
    "import itertools\n",
    "import time\n"
   ]
  },
  {
   "cell_type": "code",
   "execution_count": 2,
   "metadata": {},
   "outputs": [],
   "source": [
    "path = \"Datasets/\"\n"
   ]
  },
  {
   "cell_type": "code",
   "execution_count": 3,
   "metadata": {},
   "outputs": [],
   "source": [
    "def getProtectedAttributesTwitch(G, df):\n",
    "    protected_attributes = dict(zip(df[\"numeric_id\"], df[\"mature\"]))\n",
    "    newG = nx.set_node_attributes(G, protected_attributes, \"mature\")\n",
    "    return newG\n",
    "\n",
    "\n",
    "def getProtectedAttributesDeezer(G, df):\n",
    "    protected_attributes = dict(zip(df[\"id\"], df[\"target\"]))\n",
    "    newG = nx.set_node_attributes(G, protected_attributes, \"gender\")\n",
    "    return newG\n",
    "\n",
    "\n",
    "def getProtectedAttributesPokec(G, df):\n",
    "    protected_attributes = dict(zip(df[0], df[3]))\n",
    "    newG = nx.set_node_attributes(G, protected_attributes, \"gender\")\n",
    "    return newG\n",
    "\n",
    "\n",
    "def getprotectedAttributesDict_Facebook(featuresDF, featureNameDF, egoFeatDF):\n",
    "    gender_index = featureNameDF.index[featureNameDF[1] == \"gender;anonymized\"].to_list()[\n",
    "        0]\n",
    "    featuresDF = featuresDF[[0, gender_index + 1]]\n",
    "    egoFeatDF = egoFeatDF[[0, gender_index + 1]]\n",
    "    featuresDict = dict(zip(featuresDF[0], featuresDF[gender_index + 1]))\n",
    "    egoFeatDict = dict(zip(egoFeatDF[0], egoFeatDF[gender_index + 1]))\n",
    "    featuresDict.update(egoFeatDict)\n",
    "    return featuresDict\n",
    "\n",
    "\n",
    "def getprotectedAttributesDict_GPlus(featuresDF, gender_index, egoFeatDF):\n",
    "    # gender_index = featureNameDF.index[featureNameDF[1] == \"gender:1\"].to_list()[0]\n",
    "    featuresDF = featuresDF[[0, gender_index + 1]]\n",
    "    egoFeatDF = egoFeatDF[[0, gender_index + 1]]\n",
    "    featuresDict = dict(zip(featuresDF[0], featuresDF[gender_index + 1]))\n",
    "    egoFeatDict = dict(zip(egoFeatDF[0], egoFeatDF[gender_index + 1]))\n",
    "    featuresDict.update(egoFeatDict)\n",
    "    return featuresDict\n",
    "\n",
    "\n",
    "def getEgoFeats(path):\n",
    "    featFiles = []\n",
    "    featNameFiles = []\n",
    "    egoFeatFiles = []\n",
    "    for file in os.listdir(path):\n",
    "        if file.endswith(\".feat\"):\n",
    "            featFiles.append(file)\n",
    "        if file.endswith(\".featnames\"):\n",
    "            featNameFiles.append(file)\n",
    "        if file.endswith(\".egofeat\"):\n",
    "            egoFeatFiles.append(file)\n",
    "    return featFiles, featNameFiles, egoFeatFiles\n",
    "\n",
    "\n",
    "def getProtectedAttributesFacebook(G):\n",
    "    node_gender_dict = {}\n",
    "    localpath = \"Datasets/facebook/facebook/\"\n",
    "    fbFeatFiles, fbFeatNameFiles, fbEgoFeatFiles = getEgoFeats(localpath)\n",
    "    for index in range(len(fbFeatFiles)):\n",
    "        localFeaturesDF = pd.read_csv(\n",
    "            localpath + fbFeatFiles[index], sep=\" \", header=None)\n",
    "        localFeatureNamesDf = pd.read_csv(\n",
    "            localpath + fbFeatNameFiles[index], sep=\" \", header=None)\n",
    "        localEgoFeatDf = pd.read_csv(\n",
    "            localpath + fbEgoFeatFiles[index], sep=\" \", header=None)\n",
    "        protectedAttrDict = getprotectedAttributesDict_Facebook(\n",
    "            localFeaturesDF, localFeatureNamesDf, localEgoFeatDf)\n",
    "        node_gender_dict.update(protectedAttrDict)\n",
    "\n",
    "    newG = nx.set_node_attributes(G, node_gender_dict, \"gender\")\n",
    "    return newG\n",
    "\n",
    "\n",
    "def getProtectedAttributesGPlus(G):\n",
    "    node_gender_dict = {}\n",
    "    localpath = \"Datasets/gplus/\"\n",
    "    gplusFeatFiles, gplusFeatNameFiles, gplusEgoFeatFiles = getEgoFeats(\n",
    "        localpath)\n",
    "    for index in range(len(gplusFeatFiles)):\n",
    "        try:\n",
    "            localFeaturesDF = pd.read_csv(\n",
    "                localpath + gplusFeatFiles[index], sep=\" \", header=None)\n",
    "        # localFeatureNamesDf = pd.read_csv(localpath + gplusFeatNameFiles[index], sep=\" \", header=None)\n",
    "            localEgoFeatDf = pd.read_csv(\n",
    "                localpath + gplusEgoFeatFiles[index], sep=\" \", header=None)\n",
    "            protectedAttrDict = getprotectedAttributesDict_GPlus(\n",
    "                localFeaturesDF, 0, localEgoFeatDf)\n",
    "            node_gender_dict.update(protectedAttrDict)\n",
    "        except:\n",
    "            print(gplusEgoFeatFiles[index])\n",
    "\n",
    "    newG = nx.set_node_attributes(G, node_gender_dict, \"gender\")\n",
    "    return newG\n"
   ]
  },
  {
   "cell_type": "code",
   "execution_count": 4,
   "metadata": {},
   "outputs": [],
   "source": [
    "def initialize_community_attribute_Counter(communitiesList):\n",
    "    protectedAttributeCountDict = {}\n",
    "    communityCount = 0\n",
    "    for i in range(len(communitiesList)):\n",
    "        protectedAttributeCountDict[\"Community_{}\".format(communityCount)] = {\n",
    "            0: 0, 1: 0}\n",
    "        communityCount += 1\n",
    "    return protectedAttributeCountDict\n",
    "\n",
    "\n",
    "def count_protected_attributes_frequency(G, communitiesList, protectedAttributeCountDict, attribute):\n",
    "    communityCount = 0\n",
    "    for community in communitiesList:\n",
    "        for node in community:\n",
    "            try:\n",
    "                if G.nodes()[node][attribute] == 0:\n",
    "                    protectedAttributeCountDict[\"Community_{}\".format(\n",
    "                        communityCount)][0] += 1\n",
    "                else:\n",
    "                    protectedAttributeCountDict[\"Community_{}\".format(\n",
    "                        communityCount)][1] += 1\n",
    "            except KeyError:\n",
    "                continue\n",
    "        communityCount += 1\n",
    "    return protectedAttributeCountDict\n",
    "\n",
    "\n",
    "def calculate_community_balance(protectedAttributeCountDict):\n",
    "    for x in protectedAttributeCountDict:\n",
    "        red = protectedAttributeCountDict[x][0]\n",
    "        blue = protectedAttributeCountDict[x][1]\n",
    "        if red > blue:\n",
    "            balance = blue/red\n",
    "            protectedAttributeCountDict[x][\"balance\"] = balance\n",
    "        else:\n",
    "            balance = red/blue\n",
    "            protectedAttributeCountDict[x][\"balance\"] = balance\n",
    "    return protectedAttributeCountDict\n",
    "\n",
    "\n",
    "def calculate_Fairness(G, communitiesList, attribute):\n",
    "\n",
    "    protectedAttributeCountDict = initialize_community_attribute_Counter(\n",
    "        communitiesList)\n",
    "\n",
    "    protectedAttributeCountDict = count_protected_attributes_frequency(\n",
    "        G, communitiesList, protectedAttributeCountDict, attribute)\n",
    "\n",
    "    protectedAttributeCountDict = calculate_community_balance(\n",
    "        protectedAttributeCountDict)\n",
    "\n",
    "    return protectedAttributeCountDict\n"
   ]
  },
  {
   "cell_type": "code",
   "execution_count": 5,
   "metadata": {},
   "outputs": [],
   "source": [
    "def countInCommunityDegree(G, communities):\n",
    "    communitiesDegree = {}\n",
    "    # communityCount = 0\n",
    "    for index, community in enumerate(communities):\n",
    "        communityDegree = {}\n",
    "        communitySubgraph = G.subgraph(community)\n",
    "        for node in communitySubgraph.nodes():\n",
    "            communityDegree[node] = communitySubgraph.degree(node)\n",
    "        communitiesDegree[\"Community_{}\".format(index)] = communityDegree\n",
    "    return communitiesDegree\n",
    "\n",
    "\n",
    "def getLowInCommunityDegreeNodes(communitiesNodeDegrees):\n",
    "    lowInCommunityDegreeNodes = {}\n",
    "    for (communityName, community) in communitiesNodeDegrees.items():\n",
    "        percent = len(community.keys()) * 30 / 100\n",
    "        lowDegreeNodes = dict(\n",
    "            filter(lambda elem: elem[1] < percent, community.items()))\n",
    "        lowDegreeNodes = dict(\n",
    "            sorted(lowDegreeNodes.items(), key=lambda item: item[1]))\n",
    "        lowInCommunityDegreeNodes[communityName] = lowDegreeNodes\n",
    "    return lowInCommunityDegreeNodes\n",
    "\n",
    "\n",
    "def getLowInCommunityDegreeNodesProtectedAttribute(graph, lowInCommunityDegreeNodes, protectedAttributeLabel):\n",
    "    lowInCommunityDegreeNodesProtectedAttribute = []\n",
    "    for (node, degree) in lowInCommunityDegreeNodes.items():\n",
    "        if graph.nodes()[node][\"gender\"] == protectedAttributeLabel:\n",
    "            lowInCommunityDegreeNodesProtectedAttribute.append(node)\n",
    "    return lowInCommunityDegreeNodesProtectedAttribute\n",
    "\n",
    "\n",
    "# def calculate_global_fairness(fairnessDictionary):\n",
    "#     globalFairness = 0\n",
    "#     for communityInfo in fairnessDictionary.values():\n",
    "#         globalFairness += communityInfo[\"balance\"]\n",
    "#     return globalFairness / len(fairnessDictionary.items())\n",
    "\n",
    "def calculate_global_fairness(fairnessDictionary):\n",
    "    zeroCounts = 0 \n",
    "    oneCounts = 0\n",
    "    for communityInfo in fairnessDictionary.values():\n",
    "        zeroCounts += communityInfo[0]\n",
    "        oneCounts += communityInfo[1]\n",
    "    return min(zeroCounts/oneCounts, oneCounts/zeroCounts)\n",
    "\n",
    "\n",
    "def getCommunitiesWithLowFairness(fairnessDictionary, threshold):\n",
    "    lowFairnessCommunities = []\n",
    "    for (communityName, communityInfo) in fairnessDictionary.items():\n",
    "        if communityInfo[\"balance\"] < threshold:\n",
    "            lowFairnessCommunities.append(communityName)\n",
    "    return lowFairnessCommunities\n",
    "\n",
    "\n",
    "def seperateLowFairnessCommunities(lowFairnesCommunities, fairnessDictionary):\n",
    "    zeroCommunities = []\n",
    "    oneCommunities = []\n",
    "\n",
    "    for community in lowFairnesCommunities:\n",
    "        if fairnessDictionary[community][0] > fairnessDictionary[community][1]:\n",
    "            zeroCommunities.append(community)\n",
    "        else:\n",
    "            oneCommunities.append(community)\n",
    "    return zeroCommunities, oneCommunities\n",
    "\n",
    "\n",
    "def updateFairnesDictionary(fairnessDictionary, startCommunity, destinationCommunity, startCommunityType):\n",
    "    fairnessDictionary[startCommunity][startCommunityType] -= 1\n",
    "    fairnessDictionary[destinationCommunity][startCommunityType] += 1\n",
    "    newStartFairness = min((fairnessDictionary[startCommunity][0]/fairnessDictionary[startCommunity][1]),\n",
    "                           fairnessDictionary[startCommunity][1]/fairnessDictionary[startCommunity][0])\n",
    "    newDestinationFairness = min((fairnessDictionary[destinationCommunity][0]/fairnessDictionary[destinationCommunity][1]),\n",
    "                                 fairnessDictionary[destinationCommunity][1]/fairnessDictionary[destinationCommunity][0])\n",
    "    fairnessDictionary[startCommunity][\"balance\"] = newStartFairness\n",
    "    fairnessDictionary[destinationCommunity][\"balance\"] = newDestinationFairness\n",
    "\n",
    "    print(\"New fairness for {}: {}\".format(startCommunity, newStartFairness))\n",
    "    print(\"New fairness for {}: {}\".format(\n",
    "        destinationCommunity, newDestinationFairness))\n",
    "\n",
    "    return fairnessDictionary, newStartFairness, newDestinationFairness\n",
    "\n",
    "\n",
    "def sendNodes(startCommunityName, startCommunityNodes, destinationCommunities, fairnessDictionary, globalFairness, startCommunityType):\n",
    "    destinationCommunitiesNameList = destinationCommunities\n",
    "    destinationCounter = 0\n",
    "\n",
    "    startCommunityCurrentFairness = fairnessDictionary[startCommunityName][\"balance\"]\n",
    "    destinationCommunityCurrentFairness = fairnessDictionary[\n",
    "        destinationCommunitiesNameList[destinationCounter]][\"balance\"]\n",
    "\n",
    "\n",
    "    while (startCommunityCurrentFairness < globalFairness and len(startCommunityNodes) > 0 and destinationCounter < len(destinationCommunitiesNameList)):\n",
    "        # print(\"Before Fixing\")\n",
    "        # print(\"Start Community: {}\".format(startCommunityName))\n",
    "        # print(\"Start Community Current Fairness: {}\".format(startCommunityCurrentFairness))\n",
    "        print(\"Destination Community: {}\".format(destinationCommunitiesNameList[destinationCounter]))\n",
    "        print(\"Destination Community Current Fairness: {}\".format(destinationCommunityCurrentFairness))\n",
    "        # print(\"Global Fairness: {}\".format(globalFairness))\n",
    "        # print(\"=====================================================================================\")\n",
    "        # time.sleep(5)\n",
    "\n",
    "        if(destinationCommunityCurrentFairness >= globalFairness):\n",
    "            destinationCounter += 1\n",
    "            if(destinationCounter < len(destinationCommunitiesNameList)):\n",
    "                destinationCommunityCurrentFairness = fairnessDictionary[\n",
    "                    destinationCommunitiesNameList[destinationCounter]][\"balance\"]\n",
    "        else:\n",
    "            startCommunityNodes.pop(0)  # dont care where it goes for now\n",
    "            # Update stats and fairness\n",
    "            fairnessDictionary, startCommunityCurrentFairness, destinationCommunityCurrentFairness = updateFairnesDictionary(fairnessDictionary, startCommunityName,\n",
    "                                                                                                                             destinationCommunitiesNameList[destinationCounter], startCommunityType)\n",
    "            # print(\"After fixing\")\n",
    "            # print(\"Start Community: {}\".format(startCommunityName))\n",
    "            # print(\"Start Community Current Fairness: {}\".format(startCommunityCurrentFairness))\n",
    "            # print(\"Destination Community: {}\".format(destinationCommunitiesNameList[destinationCounter]))\n",
    "            # print(\"Destination Community Current Fairness: {}\".format(destinationCommunityCurrentFairness))\n",
    "            # print(\"Global Fairness: {}\".format(globalFairness))\n",
    "            # print(\"=====================================================================================\")\n",
    "            # time.sleep(5)\n",
    "\n",
    "    return fairnessDictionary\n",
    "\n",
    "\n",
    "def fixCommunityFairness(graph, fairnessDictionary, lowInCommunityDegreeNodes):\n",
    "\n",
    "    zeroCommunitiesDict = {}\n",
    "    oneCommunitiesDict = {}\n",
    "\n",
    "    global_community_fairness = calculate_global_fairness(fairnessDictionary)\n",
    "    lowFairnessCommunities = getCommunitiesWithLowFairness(\n",
    "        fairnessDictionary, global_community_fairness)\n",
    "    zeroCommunities, oneCommunities = seperateLowFairnessCommunities(\n",
    "        lowFairnessCommunities, fairnessDictionary)\n",
    "\n",
    "    print(len(zeroCommunities))\n",
    "    print(len(oneCommunities))\n",
    "    if len(zeroCommunities) == 0 or len(oneCommunities) == 0:\n",
    "        print(\"Fairness cannot  be fixed\")\n",
    "        return\n",
    "\n",
    "    for community in zeroCommunities:\n",
    "        nodes = getLowInCommunityDegreeNodesProtectedAttribute(\n",
    "            graph, lowInCommunityDegreeNodes[community], 0)\n",
    "        zeroCommunitiesDict[community] = nodes\n",
    "        # get the nodes that want to leave from each community\n",
    "\n",
    "    for community in oneCommunities:\n",
    "        nodes = getLowInCommunityDegreeNodesProtectedAttribute(\n",
    "            graph, lowInCommunityDegreeNodes[community], 1)\n",
    "        oneCommunitiesDict[community] = nodes\n",
    "\n",
    "    for community in zeroCommunities:\n",
    "        print(\"Test for {}\".format(community))\n",
    "        print()\n",
    "        fairnessDictionary = sendNodes(community, zeroCommunitiesDict[community],\n",
    "                                       oneCommunities, fairnessDictionary, global_community_fairness, 0)\n",
    "    for community in oneCommunities:\n",
    "        print(\"test for {}\".format(community))\n",
    "        fairnessDictionary = sendNodes(community, oneCommunitiesDict[community],\n",
    "                                        zeroCommunities, fairnessDictionary, global_community_fairness, 1)\n",
    "\n",
    "    return fairnessDictionary\n"
   ]
  },
  {
   "cell_type": "code",
   "execution_count": 6,
   "metadata": {},
   "outputs": [],
   "source": [
    "def convert_Communities_To_Fairness_CSV(paths):\n",
    "    for path in paths:\n",
    "        communityDF = pd.read_csv(\"communities/{}\".format(path), sep=\"\\t\", header=None)\n",
    "        communityListDf = communityDF.groupby(1).aggregate(lambda x: list(x))\n",
    "        communitiesList = communityListDf[0].to_list()\n",
    "        if path.startswith(\"twitch\"):\n",
    "            protected_count = calculate_Fairness(twitchGamersCCGraph, communitiesList, \"mature\")\n",
    "            testdf = pd.DataFrame(protected_count)\n",
    "            testdf = testdf.T\n",
    "            testdf.to_csv(\"fairness_CSV/{}_fairness.csv\".format(path))\n",
    "        elif path.startswith(\"gplus\"):\n",
    "            protected_count = calculate_Fairness(gplusCCGraph, communitiesList, \"gender\")\n",
    "            testdf = pd.DataFrame(protected_count)\n",
    "            testdf = testdf.T\n",
    "            testdf.to_csv(\"fairness_CSV/{}_fairness.csv\".format(path))\n",
    "        elif path.startswith(\"facebook\"):\n",
    "            protected_count = calculate_Fairness(facebookLargestCCGraph, communitiesList, \"gender\")\n",
    "            testdf = pd.DataFrame(protected_count)\n",
    "            testdf = testdf.T\n",
    "            testdf.to_csv(\"fairness_CSV/{}_fairness.csv\".format(path))\n",
    "        elif path.startswith(\"deezer\"):\n",
    "            protected_count = calculate_Fairness(deezerLargestCCGraph, communitiesList, \"gender\")\n",
    "            testdf = pd.DataFrame(protected_count)\n",
    "            testdf = testdf.T\n",
    "            testdf.to_csv(\"fairness_CSV/{}_fairness.csv\".format(path))\n",
    "        elif path.startswith(\"pokec\"):\n",
    "            protected_count = calculate_Fairness(pokec_test, communitiesList, \"gender\")\n",
    "            testdf = pd.DataFrame(protected_count)\n",
    "            testdf = testdf.T\n",
    "            testdf.to_csv(\"fairness_CSV/{}_fairness.csv\".format(path))\n",
    "        "
   ]
  },
  {
   "cell_type": "code",
   "execution_count": 7,
   "metadata": {},
   "outputs": [],
   "source": [
    "def most_frequent(list):\n",
    "    return max(set(list), key=list.count)\n"
   ]
  },
  {
   "cell_type": "code",
   "execution_count": 6,
   "metadata": {},
   "outputs": [],
   "source": [
    "# Execution Time 2mins\n",
    "# gplus_graph = nx.read_edgelist(\"{}gplus/gplus_combined.txt\".format(path), nodetype=str, delimiter=\" \", create_using=nx.DiGraph())\n"
   ]
  },
  {
   "cell_type": "code",
   "execution_count": 8,
   "metadata": {},
   "outputs": [],
   "source": [
    "gplus_graph = nx.read_edgelist(\"gplus/gplus_combined_undirected.txt\".format(\n",
    "    path), nodetype=str, delimiter=\" \", create_using=nx.Graph())\n"
   ]
  },
  {
   "cell_type": "code",
   "execution_count": 9,
   "metadata": {},
   "outputs": [
    {
     "name": "stdout",
     "output_type": "stream",
     "text": [
      "101560853443212199687.egofeat\n",
      "109327480479767108490.egofeat\n",
      "115625564993990145546.egofeat\n",
      "116899029375914044550.egofeat\n"
     ]
    }
   ],
   "source": [
    "getProtectedAttributesGPlus(gplus_graph)\n"
   ]
  },
  {
   "cell_type": "code",
   "execution_count": 10,
   "metadata": {},
   "outputs": [],
   "source": [
    "gplusCC = max(nx.connected_components(gplus_graph), key=len)\n",
    "gplusCCGraph = gplus_graph.subgraph(gplusCC)\n"
   ]
  },
  {
   "cell_type": "code",
   "execution_count": null,
   "metadata": {},
   "outputs": [],
   "source": []
  },
  {
   "cell_type": "code",
   "execution_count": 10,
   "metadata": {},
   "outputs": [],
   "source": [
    "louvain_communities_Gplus = nx.algorithms.community.louvain_communities(\n",
    "    gplusCCGraph)\n"
   ]
  },
  {
   "cell_type": "code",
   "execution_count": 11,
   "metadata": {},
   "outputs": [],
   "source": [
    "community_counter = 0\n",
    "with open(\"output/gplusLouvain.txt\", \"w\") as f:\n",
    "    for community in louvain_communities_Gplus:\n",
    "        for node in community:\n",
    "            f.write(\"{}\\t{}\\n\".format(node, community_counter))\n",
    "        community_counter += 1\n"
   ]
  },
  {
   "cell_type": "code",
   "execution_count": 12,
   "metadata": {},
   "outputs": [],
   "source": [
    "genderCountGplus = {}\n",
    "genderCountGplus = calculate_Fairness(\n",
    "    gplusCCGraph, louvain_communities_Gplus, 'gender')\n"
   ]
  },
  {
   "cell_type": "code",
   "execution_count": 13,
   "metadata": {},
   "outputs": [
    {
     "data": {
      "text/plain": [
       "{'Community_0': {0: 9951, 1: 11309, 'balance': 0.8799186488637368},\n",
       " 'Community_1': {0: 143, 1: 363, 'balance': 0.3939393939393939},\n",
       " 'Community_2': {0: 869, 1: 2758, 'balance': 0.3150833937635968},\n",
       " 'Community_3': {0: 78, 1: 108, 'balance': 0.7222222222222222},\n",
       " 'Community_4': {0: 61, 1: 465, 'balance': 0.13118279569892474},\n",
       " 'Community_5': {0: 14, 1: 32, 'balance': 0.4375},\n",
       " 'Community_6': {0: 12444, 1: 13850, 'balance': 0.8984837545126354},\n",
       " 'Community_7': {0: 163, 1: 352, 'balance': 0.4630681818181818},\n",
       " 'Community_8': {0: 224, 1: 246, 'balance': 0.9105691056910569},\n",
       " 'Community_9': {0: 111, 1: 353, 'balance': 0.31444759206798867},\n",
       " 'Community_10': {0: 5, 1: 40, 'balance': 0.125},\n",
       " 'Community_11': {0: 746, 1: 650, 'balance': 0.871313672922252},\n",
       " 'Community_12': {0: 5488, 1: 2258, 'balance': 0.41144314868804666},\n",
       " 'Community_13': {0: 2277, 1: 1775, 'balance': 0.7795344751866491},\n",
       " 'Community_14': {0: 5, 1: 18, 'balance': 0.2777777777777778},\n",
       " 'Community_15': {0: 534, 1: 1529, 'balance': 0.34924787442773053},\n",
       " 'Community_16': {0: 3181, 1: 3416, 'balance': 0.9312060889929742},\n",
       " 'Community_17': {0: 290, 1: 684, 'balance': 0.4239766081871345},\n",
       " 'Community_18': {0: 199, 1: 529, 'balance': 0.3761814744801512},\n",
       " 'Community_19': {0: 2, 1: 3, 'balance': 0.6666666666666666},\n",
       " 'Community_20': {0: 7118, 1: 9700, 'balance': 0.7338144329896907},\n",
       " 'Community_21': {0: 2549, 1: 297, 'balance': 0.11651628089446842},\n",
       " 'Community_22': {0: 2, 1: 4, 'balance': 0.5},\n",
       " 'Community_23': {0: 49, 1: 130, 'balance': 0.3769230769230769},\n",
       " 'Community_24': {0: 1906, 1: 1838, 'balance': 0.9643231899265478},\n",
       " 'Community_25': {0: 47, 1: 223, 'balance': 0.21076233183856502},\n",
       " 'Community_26': {0: 1, 1: 1, 'balance': 1.0},\n",
       " 'Community_27': {0: 0, 1: 2, 'balance': 0.0},\n",
       " 'Community_28': {0: 0, 1: 6, 'balance': 0.0},\n",
       " 'Community_29': {0: 2, 1: 1, 'balance': 0.5},\n",
       " 'Community_30': {0: 41, 1: 0, 'balance': 0.0},\n",
       " 'Community_31': {0: 3224, 1: 2802, 'balance': 0.8691066997518611}}"
      ]
     },
     "execution_count": 13,
     "metadata": {},
     "output_type": "execute_result"
    }
   ],
   "source": [
    "genderCountGplus\n"
   ]
  },
  {
   "cell_type": "code",
   "execution_count": 15,
   "metadata": {},
   "outputs": [],
   "source": [
    "label_propagation_Gplus = nx.algorithms.community.label_propagation_communities(\n",
    "    gplusCCGraph)\n"
   ]
  },
  {
   "cell_type": "code",
   "execution_count": 16,
   "metadata": {},
   "outputs": [],
   "source": [
    "community_counter = 0\n",
    "with open(\"output/gplusLabelPropagation.txt\", \"w\") as f:\n",
    "    for community in label_propagation_Gplus:\n",
    "        for node in community:\n",
    "            f.write(\"{}\\t{}\\n\".format(node, community_counter))\n",
    "        community_counter += 1\n"
   ]
  },
  {
   "cell_type": "code",
   "execution_count": 10,
   "metadata": {},
   "outputs": [],
   "source": [
    "# Twitch gamers Graph\n",
    "twitchGamers_graph = nx.read_edgelist(\n",
    "    \"{}twitch_gamers/large_twitch_edges.csv\".format(path), nodetype=int, delimiter=\",\")\n"
   ]
  },
  {
   "cell_type": "code",
   "execution_count": 11,
   "metadata": {},
   "outputs": [],
   "source": [
    "# Twitch gamers features\n",
    "twitchGamers_features = pd.read_csv(\n",
    "    \"{}twitch_gamers/large_twitch_features.csv\".format(path))\n"
   ]
  },
  {
   "cell_type": "code",
   "execution_count": 12,
   "metadata": {},
   "outputs": [],
   "source": [
    "getProtectedAttributesTwitch(twitchGamers_graph, twitchGamers_features)\n"
   ]
  },
  {
   "cell_type": "code",
   "execution_count": 13,
   "metadata": {},
   "outputs": [],
   "source": [
    "twitchGamersCC = max(nx.connected_components(twitchGamers_graph), key=len)\n",
    "twitchGamersCCGraph = twitchGamers_graph.subgraph(twitchGamersCC)\n"
   ]
  },
  {
   "cell_type": "code",
   "execution_count": 10,
   "metadata": {},
   "outputs": [],
   "source": [
    "# Εxecution time 5mins\n",
    "louvain_communities_twitch = nx.algorithms.community.louvain_communities(\n",
    "    twitchGamersCCGraph)\n"
   ]
  },
  {
   "cell_type": "code",
   "execution_count": 18,
   "metadata": {},
   "outputs": [],
   "source": [
    "community_counter = 0\n",
    "with open(\"output/twitchLouvain.txt\", \"w\") as f:\n",
    "    for community in louvain_communities_twitch:\n",
    "        for node in community:\n",
    "            f.write(\"{}\\t{}\\n\".format(node, community_counter))\n",
    "        community_counter += 1\n"
   ]
  },
  {
   "cell_type": "code",
   "execution_count": 22,
   "metadata": {},
   "outputs": [
    {
     "data": {
      "text/plain": [
       "{'Community_0': {0: 3486, 1: 1523, 'balance': 0.4368904188181297},\n",
       " 'Community_1': {0: 357, 1: 186, 'balance': 0.5210084033613446},\n",
       " 'Community_2': {0: 10551, 1: 6717, 'balance': 0.6366221211259596},\n",
       " 'Community_3': {0: 3754, 1: 1288, 'balance': 0.34310069259456577},\n",
       " 'Community_4': {0: 237, 1: 266, 'balance': 0.8909774436090225},\n",
       " 'Community_5': {0: 478, 1: 230, 'balance': 0.4811715481171548},\n",
       " 'Community_6': {0: 189, 1: 153, 'balance': 0.8095238095238095},\n",
       " 'Community_7': {0: 6981, 1: 10957, 'balance': 0.6371269508077029},\n",
       " 'Community_8': {0: 556, 1: 173, 'balance': 0.31115107913669066},\n",
       " 'Community_9': {0: 19502, 1: 16437, 'balance': 0.8428366321402933},\n",
       " 'Community_10': {0: 3311, 1: 5490, 'balance': 0.6030965391621129},\n",
       " 'Community_11': {0: 3446, 1: 1177, 'balance': 0.3415554265815438},\n",
       " 'Community_12': {0: 1419, 1: 792, 'balance': 0.5581395348837209},\n",
       " 'Community_13': {0: 910, 1: 254, 'balance': 0.27912087912087913},\n",
       " 'Community_14': {0: 12945, 1: 20515, 'balance': 0.6310017060687302},\n",
       " 'Community_15': {0: 612, 1: 60, 'balance': 0.09803921568627451},\n",
       " 'Community_16': {0: 589, 1: 243, 'balance': 0.41256366723259763},\n",
       " 'Community_17': {0: 15938, 1: 10161, 'balance': 0.6375329401430543},\n",
       " 'Community_18': {0: 3820, 1: 2411, 'balance': 0.631151832460733}}"
      ]
     },
     "execution_count": 22,
     "metadata": {},
     "output_type": "execute_result"
    }
   ],
   "source": [
    "louvain_gender_count = {}\n",
    "louvain_gender_count = calculate_Fairness(\n",
    "    twitchGamers_graph, louvain_communities_twitch, \"mature\")\n",
    "louvain_gender_count\n"
   ]
  },
  {
   "cell_type": "code",
   "execution_count": null,
   "metadata": {},
   "outputs": [],
   "source": []
  },
  {
   "cell_type": "code",
   "execution_count": 19,
   "metadata": {},
   "outputs": [],
   "source": [
    "# 12m execution time\n",
    "twitchGamersCCGraphComms = nx.algorithms.community.label_propagation_communities(\n",
    "    twitchGamersCCGraph)\n"
   ]
  },
  {
   "cell_type": "code",
   "execution_count": 22,
   "metadata": {},
   "outputs": [],
   "source": [
    "# maybe get the top 5 communities?\n",
    "twitchLabelPropagationList = list(twitchGamersCCGraphComms)\n"
   ]
  },
  {
   "cell_type": "code",
   "execution_count": 25,
   "metadata": {},
   "outputs": [],
   "source": [
    "community_counter = 0\n",
    "with open(\"output/twitchLabelPropagation.txt\", \"w\") as f:\n",
    "    for community in twitchLabelPropagationList:\n",
    "        for node in community:\n",
    "            f.write(\"{}\\t{}\\n\".format(node, community_counter))\n",
    "        community_counter += 1\n"
   ]
  },
  {
   "cell_type": "code",
   "execution_count": 15,
   "metadata": {},
   "outputs": [],
   "source": [
    "genderCountTwitch = {}\n",
    "genderCountTwitch = calculate_Fairness(\n",
    "    twitchGamers_graph, twitchLabelPropagationList, \"mature\")\n"
   ]
  },
  {
   "cell_type": "code",
   "execution_count": 16,
   "metadata": {},
   "outputs": [
    {
     "data": {
      "text/plain": [
       "{'Community_0': {0: 83131, 1: 76960, 'balance': 0.9257677641313108},\n",
       " 'Community_1': {0: 1563, 1: 1017, 'balance': 0.6506717850287908},\n",
       " 'Community_2': {0: 2366, 1: 777, 'balance': 0.32840236686390534},\n",
       " 'Community_3': {0: 473, 1: 135, 'balance': 0.2854122621564482},\n",
       " 'Community_4': {0: 2, 1: 0, 'balance': 0.0},\n",
       " 'Community_5': {0: 580, 1: 53, 'balance': 0.09137931034482759},\n",
       " 'Community_6': {0: 854, 1: 44, 'balance': 0.05152224824355972},\n",
       " 'Community_7': {0: 1, 1: 1, 'balance': 1.0},\n",
       " 'Community_8': {0: 0, 1: 2, 'balance': 0.0},\n",
       " 'Community_9': {0: 2, 1: 0, 'balance': 0.0},\n",
       " 'Community_10': {0: 1, 1: 1, 'balance': 1.0},\n",
       " 'Community_11': {0: 0, 1: 2, 'balance': 0.0},\n",
       " 'Community_12': {0: 2, 1: 0, 'balance': 0.0},\n",
       " 'Community_13': {0: 6, 1: 0, 'balance': 0.0},\n",
       " 'Community_14': {0: 2, 1: 0, 'balance': 0.0},\n",
       " 'Community_15': {0: 4, 1: 0, 'balance': 0.0},\n",
       " 'Community_16': {0: 2, 1: 0, 'balance': 0.0},\n",
       " 'Community_17': {0: 2, 1: 1, 'balance': 0.5},\n",
       " 'Community_18': {0: 1, 1: 1, 'balance': 1.0},\n",
       " 'Community_19': {0: 1, 1: 1, 'balance': 1.0},\n",
       " 'Community_20': {0: 2, 1: 0, 'balance': 0.0},\n",
       " 'Community_21': {0: 1, 1: 1, 'balance': 1.0},\n",
       " 'Community_22': {0: 1, 1: 1, 'balance': 1.0},\n",
       " 'Community_23': {0: 3, 1: 0, 'balance': 0.0},\n",
       " 'Community_24': {0: 3, 1: 0, 'balance': 0.0},\n",
       " 'Community_25': {0: 2, 1: 0, 'balance': 0.0},\n",
       " 'Community_26': {0: 1, 1: 1, 'balance': 1.0},\n",
       " 'Community_27': {0: 0, 1: 2, 'balance': 0.0},\n",
       " 'Community_28': {0: 0, 1: 2, 'balance': 0.0},\n",
       " 'Community_29': {0: 2, 1: 0, 'balance': 0.0},\n",
       " 'Community_30': {0: 3, 1: 0, 'balance': 0.0},\n",
       " 'Community_31': {0: 2, 1: 0, 'balance': 0.0},\n",
       " 'Community_32': {0: 1, 1: 1, 'balance': 1.0},\n",
       " 'Community_33': {0: 1, 1: 1, 'balance': 1.0},\n",
       " 'Community_34': {0: 1, 1: 1, 'balance': 1.0},\n",
       " 'Community_35': {0: 3, 1: 0, 'balance': 0.0},\n",
       " 'Community_36': {0: 2, 1: 0, 'balance': 0.0},\n",
       " 'Community_37': {0: 0, 1: 2, 'balance': 0.0},\n",
       " 'Community_38': {0: 1, 1: 1, 'balance': 1.0},\n",
       " 'Community_39': {0: 1, 1: 1, 'balance': 1.0},\n",
       " 'Community_40': {0: 0, 1: 2, 'balance': 0.0},\n",
       " 'Community_41': {0: 2, 1: 0, 'balance': 0.0},\n",
       " 'Community_42': {0: 1, 1: 1, 'balance': 1.0},\n",
       " 'Community_43': {0: 2, 1: 0, 'balance': 0.0},\n",
       " 'Community_44': {0: 2, 1: 0, 'balance': 0.0},\n",
       " 'Community_45': {0: 2, 1: 0, 'balance': 0.0},\n",
       " 'Community_46': {0: 2, 1: 0, 'balance': 0.0},\n",
       " 'Community_47': {0: 0, 1: 2, 'balance': 0.0},\n",
       " 'Community_48': {0: 2, 1: 0, 'balance': 0.0},\n",
       " 'Community_49': {0: 3, 1: 0, 'balance': 0.0},\n",
       " 'Community_50': {0: 4, 1: 0, 'balance': 0.0},\n",
       " 'Community_51': {0: 1, 1: 1, 'balance': 1.0},\n",
       " 'Community_52': {0: 1, 1: 1, 'balance': 1.0},\n",
       " 'Community_53': {0: 0, 1: 2, 'balance': 0.0},\n",
       " 'Community_54': {0: 3, 1: 0, 'balance': 0.0},\n",
       " 'Community_55': {0: 2, 1: 0, 'balance': 0.0},\n",
       " 'Community_56': {0: 2, 1: 0, 'balance': 0.0},\n",
       " 'Community_57': {0: 2, 1: 0, 'balance': 0.0},\n",
       " 'Community_58': {0: 1, 1: 1, 'balance': 1.0},\n",
       " 'Community_59': {0: 1, 1: 1, 'balance': 1.0},\n",
       " 'Community_60': {0: 0, 1: 2, 'balance': 0.0},\n",
       " 'Community_61': {0: 0, 1: 2, 'balance': 0.0},\n",
       " 'Community_62': {0: 2, 1: 0, 'balance': 0.0},\n",
       " 'Community_63': {0: 2, 1: 0, 'balance': 0.0},\n",
       " 'Community_64': {0: 2, 1: 0, 'balance': 0.0},\n",
       " 'Community_65': {0: 2, 1: 0, 'balance': 0.0},\n",
       " 'Community_66': {0: 2, 1: 0, 'balance': 0.0},\n",
       " 'Community_67': {0: 1, 1: 1, 'balance': 1.0},\n",
       " 'Community_68': {0: 0, 1: 2, 'balance': 0.0},\n",
       " 'Community_69': {0: 2, 1: 0, 'balance': 0.0},\n",
       " 'Community_70': {0: 2, 1: 0, 'balance': 0.0},\n",
       " 'Community_71': {0: 2, 1: 0, 'balance': 0.0},\n",
       " 'Community_72': {0: 1, 1: 1, 'balance': 1.0},\n",
       " 'Community_73': {0: 0, 1: 2, 'balance': 0.0},\n",
       " 'Community_74': {0: 2, 1: 0, 'balance': 0.0},\n",
       " 'Community_75': {0: 0, 1: 2, 'balance': 0.0},\n",
       " 'Community_76': {0: 2, 1: 0, 'balance': 0.0},\n",
       " 'Community_77': {0: 2, 1: 0, 'balance': 0.0},\n",
       " 'Community_78': {0: 1, 1: 1, 'balance': 1.0}}"
      ]
     },
     "execution_count": 16,
     "metadata": {},
     "output_type": "execute_result"
    }
   ],
   "source": [
    "genderCountTwitch\n"
   ]
  },
  {
   "cell_type": "code",
   "execution_count": 17,
   "metadata": {},
   "outputs": [],
   "source": [
    "# 2m 31.6s execution time\n",
    "twitchKernighan = nx.community.kernighan_lin_bisection(\n",
    "    twitchGamersCCGraph, weight=\"weight\")\n"
   ]
  },
  {
   "cell_type": "code",
   "execution_count": 19,
   "metadata": {},
   "outputs": [],
   "source": [
    "genderCounttwitchKernighan = {}\n",
    "genderCounttwitchKernighan = calculate_Fairness(\n",
    "    twitchGamers_graph, twitchKernighan, \"mature\")\n"
   ]
  },
  {
   "cell_type": "code",
   "execution_count": 21,
   "metadata": {},
   "outputs": [
    {
     "data": {
      "text/plain": [
       "{'Community_0': {0: 50786, 1: 33271, 'balance': 0.6551214901744575},\n",
       " 'Community_1': {0: 38295, 1: 45762, 'balance': 0.836829684017307}}"
      ]
     },
     "execution_count": 21,
     "metadata": {},
     "output_type": "execute_result"
    }
   ],
   "source": [
    "genderCounttwitchKernighan\n"
   ]
  },
  {
   "cell_type": "code",
   "execution_count": 14,
   "metadata": {},
   "outputs": [],
   "source": [
    "# Deezer europe graph\n",
    "deezer_graph = nx.read_edgelist(\n",
    "    \"{}deezer_europe/deezer_europe/deezer_europe_edges.csv\".format(path), nodetype=int, delimiter=\",\")\n"
   ]
  },
  {
   "cell_type": "code",
   "execution_count": 15,
   "metadata": {},
   "outputs": [],
   "source": [
    "# Read Deezer genders\n",
    "deezer_gendersDf = pd.read_csv(\n",
    "    \"{}/deezer_europe/deezer_europe/deezer_europe_target.csv\".format(path))\n"
   ]
  },
  {
   "cell_type": "code",
   "execution_count": 16,
   "metadata": {},
   "outputs": [],
   "source": [
    "getProtectedAttributesDeezer(deezer_graph, deezer_gendersDf)\n"
   ]
  },
  {
   "cell_type": "code",
   "execution_count": 17,
   "metadata": {},
   "outputs": [],
   "source": [
    "deezerLargestCC = max(nx.connected_components(deezer_graph), key=len)\n",
    "deezerLargestCCGraph = deezer_graph.subgraph(deezerLargestCC)\n"
   ]
  },
  {
   "cell_type": "code",
   "execution_count": 29,
   "metadata": {},
   "outputs": [],
   "source": [
    "deezerLabelPropagationComms = nx.algorithms.community.label_propagation_communities(\n",
    "    deezerLargestCCGraph)\n"
   ]
  },
  {
   "cell_type": "code",
   "execution_count": 30,
   "metadata": {},
   "outputs": [],
   "source": [
    "deezerLabelPropagationList = list(deezerLabelPropagationComms)\n"
   ]
  },
  {
   "cell_type": "code",
   "execution_count": 31,
   "metadata": {},
   "outputs": [],
   "source": [
    "community_counter = 0\n",
    "with open(\"output/deezerLabelPropagation.txt\", \"w\") as f:\n",
    "    for community in deezerLabelPropagationList:\n",
    "        for node in community:\n",
    "            f.write(\"{}\\t{}\\n\".format(node, community_counter))\n",
    "        community_counter += 1\n"
   ]
  },
  {
   "cell_type": "code",
   "execution_count": 32,
   "metadata": {},
   "outputs": [],
   "source": [
    "louvain_communities_deezer = nx.community.louvain_communities(\n",
    "    deezerLargestCCGraph)\n"
   ]
  },
  {
   "cell_type": "code",
   "execution_count": 34,
   "metadata": {},
   "outputs": [],
   "source": [
    "community_counter = 0\n",
    "with open(\"output/deezerLouvain.txt\", \"w\") as f:\n",
    "    for community in louvain_communities_deezer:\n",
    "        for node in community:\n",
    "            f.write(\"{}\\t{}\\n\".format(node, community_counter))\n",
    "        community_counter += 1\n"
   ]
  },
  {
   "cell_type": "code",
   "execution_count": 10,
   "metadata": {},
   "outputs": [],
   "source": [
    "# Execution time 2m 26.1s\n",
    "# pokec_graph = nx.read_edgelist(\"{}/pokec/soc-pokec-relationships.txt\".format(path), nodetype=int, delimiter=\"\\t\", create_using=nx.DiGraph())\n"
   ]
  },
  {
   "cell_type": "code",
   "execution_count": 18,
   "metadata": {},
   "outputs": [],
   "source": [
    "pokec_test = nx.read_edgelist(\"pokec/soc-pokec-undirected.txt\",\n",
    "                              nodetype=int, delimiter=\"\\t\", create_using=nx.Graph())\n"
   ]
  },
  {
   "cell_type": "code",
   "execution_count": 19,
   "metadata": {},
   "outputs": [],
   "source": [
    "pokec_features = pd.read_csv(\n",
    "    \"{}/pokec/soc-pokec-profiles.txt\".format(path), delimiter=\"\\t\", header=None, usecols=[0, 3])\n"
   ]
  },
  {
   "cell_type": "code",
   "execution_count": 20,
   "metadata": {},
   "outputs": [],
   "source": [
    "getProtectedAttributesPokec(pokec_test, pokec_features)\n"
   ]
  },
  {
   "cell_type": "code",
   "execution_count": 21,
   "metadata": {},
   "outputs": [],
   "source": [
    "pokecCC = max(nx.connected_components(pokec_test), key=len)\n",
    "pokecCCGraph = pokec_test.subgraph(pokecCC)\n"
   ]
  },
  {
   "cell_type": "code",
   "execution_count": 11,
   "metadata": {},
   "outputs": [],
   "source": [
    "labelPropagationPokec = nx.algorithms.community.label_propagation_communities(\n",
    "    pokecCCGraph)\n"
   ]
  },
  {
   "cell_type": "code",
   "execution_count": 12,
   "metadata": {},
   "outputs": [],
   "source": [
    "community_counter = 0\n",
    "with open(\"output/pokecLabelPropagation.txt\", \"w\") as f:\n",
    "    for community in labelPropagationPokec:\n",
    "        for node in community:\n",
    "            f.write(\"{}\\t{}\\n\".format(node, community_counter))\n",
    "        community_counter += 1\n"
   ]
  },
  {
   "cell_type": "code",
   "execution_count": 12,
   "metadata": {},
   "outputs": [],
   "source": [
    "louvain_communities_Pokec = nx.algorithms.community.louvain_communities(\n",
    "    pokecCCGraph)\n"
   ]
  },
  {
   "cell_type": "code",
   "execution_count": 13,
   "metadata": {},
   "outputs": [],
   "source": [
    "community_counter = 0\n",
    "with open(\"output/pokecLouvain.txt\", \"w\") as f:\n",
    "    for community in louvain_communities_Pokec:\n",
    "        for node in community:\n",
    "            f.write(\"{}\\t{}\\n\".format(node, community_counter))\n",
    "        community_counter += 1\n"
   ]
  },
  {
   "cell_type": "code",
   "execution_count": 63,
   "metadata": {},
   "outputs": [],
   "source": [
    "facebook_graph_all = nx.read_edgelist(\n",
    "    \"{}facebook/facebook/facebook_combined.txt\".format(path), nodetype=int, delimiter=\" \")\n"
   ]
  },
  {
   "cell_type": "code",
   "execution_count": 64,
   "metadata": {},
   "outputs": [],
   "source": [
    "getProtectedAttributesFacebook(facebook_graph_all)\n"
   ]
  },
  {
   "cell_type": "code",
   "execution_count": 65,
   "metadata": {},
   "outputs": [],
   "source": [
    "facebookLargestCC = max(nx.connected_components(facebook_graph_all), key=len)\n",
    "facebookLargestCCGraph = facebook_graph_all.subgraph(facebookLargestCC)\n"
   ]
  },
  {
   "cell_type": "code",
   "execution_count": 77,
   "metadata": {},
   "outputs": [],
   "source": [
    "facebookComms = nx.community.label_propagation_communities(\n",
    "    facebookLargestCCGraph)\n"
   ]
  },
  {
   "cell_type": "code",
   "execution_count": 78,
   "metadata": {},
   "outputs": [],
   "source": [
    "facebookLabelPropagationList = list(facebookComms)\n"
   ]
  },
  {
   "cell_type": "code",
   "execution_count": 43,
   "metadata": {},
   "outputs": [],
   "source": [
    "community_counter = 0\n",
    "with open(\"output/facebookLabelPropagation.txt\", \"w\") as f:\n",
    "    for community in facebookLabelPropagationList:\n",
    "        for node in community:\n",
    "            f.write(\"{}\\t{}\\n\".format(node, community_counter))\n",
    "        community_counter += 1\n"
   ]
  },
  {
   "cell_type": "code",
   "execution_count": 168,
   "metadata": {},
   "outputs": [],
   "source": [
    "genderCountFacebook = {}\n",
    "genderCountFacebook = calculate_Fairness(\n",
    "    facebook_graph_all, facebookLabelPropagationList, 'gender')\n"
   ]
  },
  {
   "cell_type": "code",
   "execution_count": 132,
   "metadata": {},
   "outputs": [
    {
     "name": "stdout",
     "output_type": "stream",
     "text": [
      "0.6114217252396166\n"
     ]
    }
   ],
   "source": [
    "print(calculate_global_fairness(genderCountFacebook))\n",
    "# print(calculate_global_fairness2(genderCountFacebook))"
   ]
  },
  {
   "cell_type": "code",
   "execution_count": 169,
   "metadata": {},
   "outputs": [],
   "source": [
    "testcommDegree = countInCommunityDegree(facebookLargestCCGraph, facebookLabelPropagationList)\n",
    "# testcommDegree\n",
    "\n",
    "\n",
    "facebookLowDegreeNodes = getLowInCommunityDegreeNodes(testcommDegree)\n",
    "# facebookLowDegreeNodes"
   ]
  },
  {
   "cell_type": "code",
   "execution_count": 170,
   "metadata": {},
   "outputs": [
    {
     "data": {
      "text/plain": [
       "{'Community_0': {0: 122, 1: 76, 'balance': 0.6229508196721312},\n",
       " 'Community_1': {0: 22, 1: 14, 'balance': 0.6363636363636364},\n",
       " 'Community_2': {0: 8, 1: 2, 'balance': 0.25},\n",
       " 'Community_3': {0: 4, 1: 4, 'balance': 1.0},\n",
       " 'Community_4': {0: 5, 1: 3, 'balance': 0.6},\n",
       " 'Community_5': {0: 23, 1: 11, 'balance': 0.4782608695652174},\n",
       " 'Community_6': {0: 2, 1: 0, 'balance': 0.0},\n",
       " 'Community_7': {0: 168, 1: 47, 'balance': 0.27976190476190477},\n",
       " 'Community_8': {0: 8, 1: 8, 'balance': 1.0},\n",
       " 'Community_9': {0: 2, 1: 1, 'balance': 0.5},\n",
       " 'Community_10': {0: 1, 1: 2, 'balance': 0.5},\n",
       " 'Community_11': {0: 674, 1: 356, 'balance': 0.5281899109792285},\n",
       " 'Community_12': {0: 4, 1: 2, 'balance': 0.5},\n",
       " 'Community_13': {0: 5, 1: 2, 'balance': 0.4},\n",
       " 'Community_14': {0: 1, 1: 2, 'balance': 0.5},\n",
       " 'Community_15': {0: 3, 1: 0, 'balance': 0.0},\n",
       " 'Community_16': {0: 383, 1: 369, 'balance': 0.9634464751958225},\n",
       " 'Community_17': {0: 6, 1: 4, 'balance': 0.6666666666666666},\n",
       " 'Community_18': {0: 0, 1: 2, 'balance': 0.0},\n",
       " 'Community_19': {0: 2, 1: 0, 'balance': 0.0},\n",
       " 'Community_20': {0: 287, 1: 182, 'balance': 0.6341463414634146},\n",
       " 'Community_21': {0: 12, 1: 1, 'balance': 0.08333333333333333},\n",
       " 'Community_22': {0: 5, 1: 4, 'balance': 0.8},\n",
       " 'Community_23': {0: 1, 1: 2, 'balance': 0.5},\n",
       " 'Community_24': {0: 35, 1: 14, 'balance': 0.4},\n",
       " 'Community_25': {0: 16, 1: 9, 'balance': 0.5625},\n",
       " 'Community_26': {0: 2, 1: 0, 'balance': 0.0},\n",
       " 'Community_27': {0: 44, 1: 15, 'balance': 0.3409090909090909},\n",
       " 'Community_28': {0: 341, 1: 205, 'balance': 0.6011730205278593},\n",
       " 'Community_29': {0: 81, 1: 97, 'balance': 0.8350515463917526},\n",
       " 'Community_30': {0: 7, 1: 3, 'balance': 0.42857142857142855},\n",
       " 'Community_31': {0: 6, 1: 3, 'balance': 0.5},\n",
       " 'Community_32': {0: 7, 1: 1, 'balance': 0.14285714285714285},\n",
       " 'Community_33': {0: 167, 1: 59, 'balance': 0.3532934131736527},\n",
       " 'Community_34': {0: 11, 1: 8, 'balance': 0.7272727272727273},\n",
       " 'Community_35': {0: 0, 1: 4, 'balance': 0.0},\n",
       " 'Community_36': {0: 1, 1: 2, 'balance': 0.5},\n",
       " 'Community_37': {0: 3, 1: 5, 'balance': 0.6},\n",
       " 'Community_38': {0: 5, 1: 1, 'balance': 0.2},\n",
       " 'Community_39': {0: 8, 1: 6, 'balance': 0.75},\n",
       " 'Community_40': {0: 11, 1: 1, 'balance': 0.09090909090909091},\n",
       " 'Community_41': {0: 4, 1: 3, 'balance': 0.75},\n",
       " 'Community_42': {0: 5, 1: 1, 'balance': 0.2},\n",
       " 'Community_43': {0: 2, 1: 0, 'balance': 0.0}}"
      ]
     },
     "execution_count": 170,
     "metadata": {},
     "output_type": "execute_result"
    }
   ],
   "source": [
    "genderCountFacebook"
   ]
  },
  {
   "cell_type": "code",
   "execution_count": 171,
   "metadata": {},
   "outputs": [
    {
     "name": "stdout",
     "output_type": "stream",
     "text": [
      "25\n",
      "7\n",
      "Test for Community_2\n",
      "\n",
      "Test for Community_4\n",
      "\n",
      "Test for Community_5\n",
      "\n",
      "Destination Community: Community_10\n",
      "Destination Community Current Fairness: 0.5\n",
      "New fairness for Community_5: 0.5\n",
      "New fairness for Community_10: 1.0\n",
      "Destination Community: Community_10\n",
      "Destination Community Current Fairness: 1.0\n",
      "Destination Community: Community_14\n",
      "Destination Community Current Fairness: 0.5\n",
      "New fairness for Community_5: 0.5238095238095238\n",
      "New fairness for Community_14: 1.0\n",
      "Destination Community: Community_14\n",
      "Destination Community Current Fairness: 1.0\n",
      "Destination Community: Community_18\n",
      "Destination Community Current Fairness: 0.0\n",
      "New fairness for Community_5: 0.55\n",
      "New fairness for Community_18: 0.5\n",
      "Destination Community: Community_18\n",
      "Destination Community Current Fairness: 0.5\n",
      "New fairness for Community_5: 0.5789473684210527\n",
      "New fairness for Community_18: 1.0\n",
      "Test for Community_6\n",
      "\n",
      "Test for Community_7\n",
      "\n",
      "Destination Community: Community_10\n",
      "Destination Community Current Fairness: 1.0\n",
      "Destination Community: Community_14\n",
      "Destination Community Current Fairness: 1.0\n",
      "Destination Community: Community_18\n",
      "Destination Community Current Fairness: 1.0\n",
      "Destination Community: Community_23\n",
      "Destination Community Current Fairness: 0.5\n",
      "New fairness for Community_7: 0.281437125748503\n",
      "New fairness for Community_23: 1.0\n",
      "Destination Community: Community_23\n",
      "Destination Community Current Fairness: 1.0\n",
      "Destination Community: Community_35\n",
      "Destination Community Current Fairness: 0.0\n",
      "New fairness for Community_7: 0.28313253012048195\n",
      "New fairness for Community_35: 0.25\n",
      "Destination Community: Community_35\n",
      "Destination Community Current Fairness: 0.25\n",
      "New fairness for Community_7: 0.28484848484848485\n",
      "New fairness for Community_35: 0.5\n",
      "Destination Community: Community_35\n",
      "Destination Community Current Fairness: 0.5\n",
      "New fairness for Community_7: 0.2865853658536585\n",
      "New fairness for Community_35: 0.75\n",
      "Destination Community: Community_35\n",
      "Destination Community Current Fairness: 0.75\n",
      "Destination Community: Community_36\n",
      "Destination Community Current Fairness: 0.5\n",
      "New fairness for Community_7: 0.2883435582822086\n",
      "New fairness for Community_36: 1.0\n",
      "Destination Community: Community_36\n",
      "Destination Community Current Fairness: 1.0\n",
      "Destination Community: Community_37\n",
      "Destination Community Current Fairness: 0.6\n",
      "New fairness for Community_7: 0.29012345679012347\n",
      "New fairness for Community_37: 0.8\n",
      "Destination Community: Community_37\n",
      "Destination Community Current Fairness: 0.8\n",
      "Test for Community_9\n",
      "\n",
      "Test for Community_11\n",
      "\n",
      "Destination Community: Community_10\n",
      "Destination Community Current Fairness: 1.0\n",
      "Destination Community: Community_14\n",
      "Destination Community Current Fairness: 1.0\n",
      "Destination Community: Community_18\n",
      "Destination Community Current Fairness: 1.0\n",
      "Destination Community: Community_23\n",
      "Destination Community Current Fairness: 1.0\n",
      "Destination Community: Community_35\n",
      "Destination Community Current Fairness: 0.75\n",
      "Destination Community: Community_36\n",
      "Destination Community Current Fairness: 1.0\n",
      "Destination Community: Community_37\n",
      "Destination Community Current Fairness: 0.8\n",
      "Test for Community_12\n",
      "\n",
      "Test for Community_13\n",
      "\n",
      "Destination Community: Community_10\n",
      "Destination Community Current Fairness: 1.0\n",
      "Destination Community: Community_14\n",
      "Destination Community Current Fairness: 1.0\n",
      "Destination Community: Community_18\n",
      "Destination Community Current Fairness: 1.0\n",
      "Destination Community: Community_23\n",
      "Destination Community Current Fairness: 1.0\n",
      "Destination Community: Community_35\n",
      "Destination Community Current Fairness: 0.75\n",
      "Destination Community: Community_36\n",
      "Destination Community Current Fairness: 1.0\n",
      "Destination Community: Community_37\n",
      "Destination Community Current Fairness: 0.8\n",
      "Test for Community_15\n",
      "\n",
      "Test for Community_19\n",
      "\n",
      "Test for Community_21\n",
      "\n",
      "Test for Community_24\n",
      "\n",
      "Destination Community: Community_10\n",
      "Destination Community Current Fairness: 1.0\n",
      "Destination Community: Community_14\n",
      "Destination Community Current Fairness: 1.0\n",
      "Destination Community: Community_18\n",
      "Destination Community Current Fairness: 1.0\n",
      "Destination Community: Community_23\n",
      "Destination Community Current Fairness: 1.0\n",
      "Destination Community: Community_35\n",
      "Destination Community Current Fairness: 0.75\n",
      "Destination Community: Community_36\n",
      "Destination Community Current Fairness: 1.0\n",
      "Destination Community: Community_37\n",
      "Destination Community Current Fairness: 0.8\n",
      "Test for Community_25\n",
      "\n",
      "Test for Community_26\n",
      "\n",
      "Test for Community_27\n",
      "\n",
      "Destination Community: Community_10\n",
      "Destination Community Current Fairness: 1.0\n",
      "Destination Community: Community_14\n",
      "Destination Community Current Fairness: 1.0\n",
      "Destination Community: Community_18\n",
      "Destination Community Current Fairness: 1.0\n",
      "Destination Community: Community_23\n",
      "Destination Community Current Fairness: 1.0\n",
      "Destination Community: Community_35\n",
      "Destination Community Current Fairness: 0.75\n",
      "Destination Community: Community_36\n",
      "Destination Community Current Fairness: 1.0\n",
      "Destination Community: Community_37\n",
      "Destination Community Current Fairness: 0.8\n",
      "Test for Community_28\n",
      "\n",
      "Destination Community: Community_10\n",
      "Destination Community Current Fairness: 1.0\n",
      "Destination Community: Community_14\n",
      "Destination Community Current Fairness: 1.0\n",
      "Destination Community: Community_18\n",
      "Destination Community Current Fairness: 1.0\n",
      "Destination Community: Community_23\n",
      "Destination Community Current Fairness: 1.0\n",
      "Destination Community: Community_35\n",
      "Destination Community Current Fairness: 0.75\n",
      "Destination Community: Community_36\n",
      "Destination Community Current Fairness: 1.0\n",
      "Destination Community: Community_37\n",
      "Destination Community Current Fairness: 0.8\n",
      "Test for Community_30\n",
      "\n",
      "Test for Community_31\n",
      "\n",
      "Destination Community: Community_10\n",
      "Destination Community Current Fairness: 1.0\n",
      "Destination Community: Community_14\n",
      "Destination Community Current Fairness: 1.0\n",
      "Destination Community: Community_18\n",
      "Destination Community Current Fairness: 1.0\n",
      "Destination Community: Community_23\n",
      "Destination Community Current Fairness: 1.0\n",
      "Destination Community: Community_35\n",
      "Destination Community Current Fairness: 0.75\n",
      "Destination Community: Community_36\n",
      "Destination Community Current Fairness: 1.0\n",
      "Destination Community: Community_37\n",
      "Destination Community Current Fairness: 0.8\n",
      "Test for Community_32\n",
      "\n",
      "Test for Community_33\n",
      "\n",
      "Destination Community: Community_10\n",
      "Destination Community Current Fairness: 1.0\n",
      "Destination Community: Community_14\n",
      "Destination Community Current Fairness: 1.0\n",
      "Destination Community: Community_18\n",
      "Destination Community Current Fairness: 1.0\n",
      "Destination Community: Community_23\n",
      "Destination Community Current Fairness: 1.0\n",
      "Destination Community: Community_35\n",
      "Destination Community Current Fairness: 0.75\n",
      "Destination Community: Community_36\n",
      "Destination Community Current Fairness: 1.0\n",
      "Destination Community: Community_37\n",
      "Destination Community Current Fairness: 0.8\n",
      "Test for Community_38\n",
      "\n",
      "Test for Community_40\n",
      "\n",
      "Destination Community: Community_10\n",
      "Destination Community Current Fairness: 1.0\n",
      "Destination Community: Community_14\n",
      "Destination Community Current Fairness: 1.0\n",
      "Destination Community: Community_18\n",
      "Destination Community Current Fairness: 1.0\n",
      "Destination Community: Community_23\n",
      "Destination Community Current Fairness: 1.0\n",
      "Destination Community: Community_35\n",
      "Destination Community Current Fairness: 0.75\n",
      "Destination Community: Community_36\n",
      "Destination Community Current Fairness: 1.0\n",
      "Destination Community: Community_37\n",
      "Destination Community Current Fairness: 0.8\n",
      "Test for Community_42\n",
      "\n",
      "Test for Community_43\n",
      "\n",
      "test for Community_10\n",
      "test for Community_14\n",
      "test for Community_18\n",
      "test for Community_23\n",
      "test for Community_35\n",
      "test for Community_36\n",
      "test for Community_37\n"
     ]
    }
   ],
   "source": [
    "newFairness = fixCommunityFairness(facebookLargestCCGraph, genderCountFacebook, facebookLowDegreeNodes)"
   ]
  },
  {
   "cell_type": "code",
   "execution_count": 173,
   "metadata": {},
   "outputs": [
    {
     "data": {
      "text/plain": [
       "{'Community_0': {0: 122, 1: 76, 'balance': 0.6229508196721312},\n",
       " 'Community_1': {0: 22, 1: 14, 'balance': 0.6363636363636364},\n",
       " 'Community_2': {0: 8, 1: 2, 'balance': 0.25},\n",
       " 'Community_3': {0: 4, 1: 4, 'balance': 1.0},\n",
       " 'Community_4': {0: 5, 1: 3, 'balance': 0.6},\n",
       " 'Community_5': {0: 19, 1: 11, 'balance': 0.5789473684210527},\n",
       " 'Community_6': {0: 2, 1: 0, 'balance': 0.0},\n",
       " 'Community_7': {0: 162, 1: 47, 'balance': 0.29012345679012347},\n",
       " 'Community_8': {0: 8, 1: 8, 'balance': 1.0},\n",
       " 'Community_9': {0: 2, 1: 1, 'balance': 0.5},\n",
       " 'Community_10': {0: 2, 1: 2, 'balance': 1.0},\n",
       " 'Community_11': {0: 674, 1: 356, 'balance': 0.5281899109792285},\n",
       " 'Community_12': {0: 4, 1: 2, 'balance': 0.5},\n",
       " 'Community_13': {0: 5, 1: 2, 'balance': 0.4},\n",
       " 'Community_14': {0: 2, 1: 2, 'balance': 1.0},\n",
       " 'Community_15': {0: 3, 1: 0, 'balance': 0.0},\n",
       " 'Community_16': {0: 383, 1: 369, 'balance': 0.9634464751958225},\n",
       " 'Community_17': {0: 6, 1: 4, 'balance': 0.6666666666666666},\n",
       " 'Community_18': {0: 2, 1: 2, 'balance': 1.0},\n",
       " 'Community_19': {0: 2, 1: 0, 'balance': 0.0},\n",
       " 'Community_20': {0: 287, 1: 182, 'balance': 0.6341463414634146},\n",
       " 'Community_21': {0: 12, 1: 1, 'balance': 0.08333333333333333},\n",
       " 'Community_22': {0: 5, 1: 4, 'balance': 0.8},\n",
       " 'Community_23': {0: 2, 1: 2, 'balance': 1.0},\n",
       " 'Community_24': {0: 35, 1: 14, 'balance': 0.4},\n",
       " 'Community_25': {0: 16, 1: 9, 'balance': 0.5625},\n",
       " 'Community_26': {0: 2, 1: 0, 'balance': 0.0},\n",
       " 'Community_27': {0: 44, 1: 15, 'balance': 0.3409090909090909},\n",
       " 'Community_28': {0: 341, 1: 205, 'balance': 0.6011730205278593},\n",
       " 'Community_29': {0: 81, 1: 97, 'balance': 0.8350515463917526},\n",
       " 'Community_30': {0: 7, 1: 3, 'balance': 0.42857142857142855},\n",
       " 'Community_31': {0: 6, 1: 3, 'balance': 0.5},\n",
       " 'Community_32': {0: 7, 1: 1, 'balance': 0.14285714285714285},\n",
       " 'Community_33': {0: 167, 1: 59, 'balance': 0.3532934131736527},\n",
       " 'Community_34': {0: 11, 1: 8, 'balance': 0.7272727272727273},\n",
       " 'Community_35': {0: 3, 1: 4, 'balance': 0.75},\n",
       " 'Community_36': {0: 2, 1: 2, 'balance': 1.0},\n",
       " 'Community_37': {0: 4, 1: 5, 'balance': 0.8},\n",
       " 'Community_38': {0: 5, 1: 1, 'balance': 0.2},\n",
       " 'Community_39': {0: 8, 1: 6, 'balance': 0.75},\n",
       " 'Community_40': {0: 11, 1: 1, 'balance': 0.09090909090909091},\n",
       " 'Community_41': {0: 4, 1: 3, 'balance': 0.75},\n",
       " 'Community_42': {0: 5, 1: 1, 'balance': 0.2},\n",
       " 'Community_43': {0: 2, 1: 0, 'balance': 0.0}}"
      ]
     },
     "execution_count": 173,
     "metadata": {},
     "output_type": "execute_result"
    }
   ],
   "source": [
    "newFairness"
   ]
  },
  {
   "cell_type": "code",
   "execution_count": 88,
   "metadata": {},
   "outputs": [
    {
     "data": {
      "text/plain": [
       "{'Community_0': {0: 122, 1: 76, 'balance': 0.6229508196721312},\n",
       " 'Community_1': {0: 22, 1: 14, 'balance': 0.6363636363636364},\n",
       " 'Community_2': {0: 8, 1: 2, 'balance': 0.25},\n",
       " 'Community_3': {0: 4, 1: 4, 'balance': 1.0},\n",
       " 'Community_4': {0: 5, 1: 3, 'balance': 0.6},\n",
       " 'Community_5': {0: 23, 1: 11, 'balance': 0.4782608695652174},\n",
       " 'Community_6': {0: 2, 1: 0, 'balance': 0.0},\n",
       " 'Community_7': {0: 165, 1: 47, 'balance': 0.28484848484848485},\n",
       " 'Community_8': {0: 8, 1: 8, 'balance': 1.0},\n",
       " 'Community_9': {0: 2, 1: 1, 'balance': 0.5},\n",
       " 'Community_10': {0: 1, 1: 2, 'balance': 0.5},\n",
       " 'Community_11': {0: 674, 1: 356, 'balance': 0.5281899109792285},\n",
       " 'Community_12': {0: 4, 1: 2, 'balance': 0.5},\n",
       " 'Community_13': {0: 5, 1: 2, 'balance': 0.4},\n",
       " 'Community_14': {0: 1, 1: 2, 'balance': 0.5},\n",
       " 'Community_15': {0: 3, 1: 0, 'balance': 0.0},\n",
       " 'Community_16': {0: 383, 1: 369, 'balance': 0.9634464751958225},\n",
       " 'Community_17': {0: 6, 1: 4, 'balance': 0.6666666666666666},\n",
       " 'Community_18': {0: 1, 1: 2, 'balance': 0.5},\n",
       " 'Community_19': {0: 2, 1: 0, 'balance': 0.0},\n",
       " 'Community_20': {0: 287, 1: 182, 'balance': 0.6341463414634146},\n",
       " 'Community_21': {0: 12, 1: 1, 'balance': 0.08333333333333333},\n",
       " 'Community_22': {0: 5, 1: 4, 'balance': 0.8},\n",
       " 'Community_23': {0: 1, 1: 2, 'balance': 0.5},\n",
       " 'Community_24': {0: 35, 1: 14, 'balance': 0.4},\n",
       " 'Community_25': {0: 16, 1: 9, 'balance': 0.5625},\n",
       " 'Community_26': {0: 2, 1: 0, 'balance': 0.0},\n",
       " 'Community_27': {0: 44, 1: 15, 'balance': 0.3409090909090909},\n",
       " 'Community_28': {0: 341, 1: 205, 'balance': 0.6011730205278593},\n",
       " 'Community_29': {0: 81, 1: 97, 'balance': 0.8350515463917526},\n",
       " 'Community_30': {0: 7, 1: 3, 'balance': 0.42857142857142855},\n",
       " 'Community_31': {0: 6, 1: 3, 'balance': 0.5},\n",
       " 'Community_32': {0: 7, 1: 1, 'balance': 0.14285714285714285},\n",
       " 'Community_33': {0: 167, 1: 59, 'balance': 0.3532934131736527},\n",
       " 'Community_34': {0: 11, 1: 8, 'balance': 0.7272727272727273},\n",
       " 'Community_35': {0: 2, 1: 4, 'balance': 0.5},\n",
       " 'Community_36': {0: 1, 1: 2, 'balance': 0.5},\n",
       " 'Community_37': {0: 3, 1: 5, 'balance': 0.6},\n",
       " 'Community_38': {0: 5, 1: 1, 'balance': 0.2},\n",
       " 'Community_39': {0: 8, 1: 6, 'balance': 0.75},\n",
       " 'Community_40': {0: 11, 1: 1, 'balance': 0.09090909090909091},\n",
       " 'Community_41': {0: 4, 1: 3, 'balance': 0.75},\n",
       " 'Community_42': {0: 5, 1: 1, 'balance': 0.2},\n",
       " 'Community_43': {0: 2, 1: 0, 'balance': 0.0}}"
      ]
     },
     "execution_count": 88,
     "metadata": {},
     "output_type": "execute_result"
    }
   ],
   "source": [
    "genderCountFacebook"
   ]
  },
  {
   "cell_type": "code",
   "execution_count": 70,
   "metadata": {},
   "outputs": [
    {
     "data": {
      "text/plain": [
       "{'Community_0': {0: 122, 1: 76, 'balance': 0.6229508196721312},\n",
       " 'Community_1': {0: 22, 1: 14, 'balance': 0.6363636363636364},\n",
       " 'Community_2': {0: 8, 1: 2, 'balance': 0.25},\n",
       " 'Community_3': {0: 4, 1: 4, 'balance': 1.0},\n",
       " 'Community_4': {0: 5, 1: 3, 'balance': 0.6},\n",
       " 'Community_5': {0: 23, 1: 11, 'balance': 0.4782608695652174},\n",
       " 'Community_6': {0: 2, 1: 0, 'balance': 0.0},\n",
       " 'Community_7': {0: 168, 1: 47, 'balance': 0.27976190476190477},\n",
       " 'Community_8': {0: 8, 1: 8, 'balance': 1.0},\n",
       " 'Community_9': {0: 2, 1: 1, 'balance': 0.5},\n",
       " 'Community_10': {0: 1, 1: 2, 'balance': 0.5},\n",
       " 'Community_11': {0: 674, 1: 356, 'balance': 0.5281899109792285},\n",
       " 'Community_12': {0: 4, 1: 2, 'balance': 0.5},\n",
       " 'Community_13': {0: 5, 1: 2, 'balance': 0.4},\n",
       " 'Community_14': {0: 1, 1: 2, 'balance': 0.5},\n",
       " 'Community_15': {0: 3, 1: 0, 'balance': 0.0},\n",
       " 'Community_16': {0: 383, 1: 369, 'balance': 0.9634464751958225},\n",
       " 'Community_17': {0: 6, 1: 4, 'balance': 0.6666666666666666},\n",
       " 'Community_18': {0: 0, 1: 2, 'balance': 0.0},\n",
       " 'Community_19': {0: 2, 1: 0, 'balance': 0.0},\n",
       " 'Community_20': {0: 287, 1: 182, 'balance': 0.6341463414634146},\n",
       " 'Community_21': {0: 12, 1: 1, 'balance': 0.08333333333333333},\n",
       " 'Community_22': {0: 5, 1: 4, 'balance': 0.8},\n",
       " 'Community_23': {0: 1, 1: 2, 'balance': 0.5},\n",
       " 'Community_24': {0: 35, 1: 14, 'balance': 0.4},\n",
       " 'Community_25': {0: 16, 1: 9, 'balance': 0.5625},\n",
       " 'Community_26': {0: 2, 1: 0, 'balance': 0.0},\n",
       " 'Community_27': {0: 44, 1: 15, 'balance': 0.3409090909090909},\n",
       " 'Community_28': {0: 341, 1: 205, 'balance': 0.6011730205278593},\n",
       " 'Community_29': {0: 81, 1: 97, 'balance': 0.8350515463917526},\n",
       " 'Community_30': {0: 7, 1: 3, 'balance': 0.42857142857142855},\n",
       " 'Community_31': {0: 6, 1: 3, 'balance': 0.5},\n",
       " 'Community_32': {0: 7, 1: 1, 'balance': 0.14285714285714285},\n",
       " 'Community_33': {0: 167, 1: 59, 'balance': 0.3532934131736527},\n",
       " 'Community_34': {0: 11, 1: 8, 'balance': 0.7272727272727273},\n",
       " 'Community_35': {0: 0, 1: 4, 'balance': 0.0},\n",
       " 'Community_36': {0: 1, 1: 2, 'balance': 0.5},\n",
       " 'Community_37': {0: 3, 1: 5, 'balance': 0.6},\n",
       " 'Community_38': {0: 5, 1: 1, 'balance': 0.2},\n",
       " 'Community_39': {0: 8, 1: 6, 'balance': 0.75},\n",
       " 'Community_40': {0: 11, 1: 1, 'balance': 0.09090909090909091},\n",
       " 'Community_41': {0: 4, 1: 3, 'balance': 0.75},\n",
       " 'Community_42': {0: 5, 1: 1, 'balance': 0.2},\n",
       " 'Community_43': {0: 2, 1: 0, 'balance': 0.0}}"
      ]
     },
     "execution_count": 70,
     "metadata": {},
     "output_type": "execute_result"
    }
   ],
   "source": [
    "genderCountFacebook\n"
   ]
  },
  {
   "cell_type": "code",
   "execution_count": 41,
   "metadata": {},
   "outputs": [],
   "source": [
    "louvain_communities_facebook = nx.community.louvain_communities(\n",
    "    facebookLargestCCGraph)\n"
   ]
  },
  {
   "cell_type": "code",
   "execution_count": 44,
   "metadata": {},
   "outputs": [],
   "source": [
    "community_counter = 0\n",
    "with open(\"output/facebookLouvain.txt\", \"w\") as f:\n",
    "    for community in louvain_communities_facebook:\n",
    "        for node in community:\n",
    "            f.write(\"{}\\t{}\\n\".format(node, community_counter))\n",
    "        community_counter += 1\n"
   ]
  },
  {
   "cell_type": "code",
   "execution_count": 45,
   "metadata": {},
   "outputs": [],
   "source": [
    "girvan_newman_facebook = nx.algorithms.community.girvan_newman(\n",
    "    facebookLargestCCGraph)\n"
   ]
  },
  {
   "cell_type": "code",
   "execution_count": 25,
   "metadata": {},
   "outputs": [],
   "source": [
    "communitiesPathList = os.listdir(\"communities\")\n",
    "# communitiesPathList\n",
    "convert_Communities_To_Fairness_CSV(communitiesPathList)\n"
   ]
  },
  {
   "cell_type": "code",
   "execution_count": 8,
   "metadata": {},
   "outputs": [],
   "source": []
  },
  {
   "cell_type": "code",
   "execution_count": 47,
   "metadata": {},
   "outputs": [],
   "source": [
    "karate = nx.karate_club_graph()\n"
   ]
  },
  {
   "cell_type": "code",
   "execution_count": 42,
   "metadata": {},
   "outputs": [],
   "source": [
    "testGraph = nx.gnp_random_graph(100,0.4)"
   ]
  },
  {
   "cell_type": "code",
   "execution_count": 56,
   "metadata": {},
   "outputs": [
    {
     "data": {
      "text/plain": [
       "{0: 0,\n",
       " 1: 0,\n",
       " 2: 0,\n",
       " 3: 0,\n",
       " 4: 0,\n",
       " 5: 1,\n",
       " 6: 1,\n",
       " 7: 1,\n",
       " 8: 0,\n",
       " 9: 1,\n",
       " 10: 1,\n",
       " 11: 0,\n",
       " 12: 0,\n",
       " 13: 1,\n",
       " 14: 1,\n",
       " 15: 1,\n",
       " 16: 0,\n",
       " 17: 0,\n",
       " 18: 0,\n",
       " 19: 1,\n",
       " 20: 1,\n",
       " 21: 0,\n",
       " 22: 0,\n",
       " 23: 0,\n",
       " 24: 0,\n",
       " 25: 0,\n",
       " 26: 0,\n",
       " 27: 0,\n",
       " 28: 0,\n",
       " 29: 0,\n",
       " 30: 0,\n",
       " 31: 0,\n",
       " 32: 1,\n",
       " 33: 1}"
      ]
     },
     "execution_count": 56,
     "metadata": {},
     "output_type": "execute_result"
    }
   ],
   "source": [
    "import random\n",
    "attrbutes = {}\n",
    "for i in range(len(karate.nodes())):\n",
    "    attrbutes[i] = random.randint(0, 1)\n",
    "attrbutes"
   ]
  },
  {
   "cell_type": "code",
   "execution_count": 57,
   "metadata": {},
   "outputs": [],
   "source": [
    "nx.set_node_attributes(karate, attrbutes, 'gender')\n"
   ]
  },
  {
   "cell_type": "code",
   "execution_count": 58,
   "metadata": {},
   "outputs": [],
   "source": [
    "karateLabelPropagation = nx.algorithms.community.label_propagation_communities(\n",
    "    karate)\n"
   ]
  },
  {
   "cell_type": "code",
   "execution_count": 59,
   "metadata": {},
   "outputs": [
    {
     "data": {
      "text/plain": [
       "{'Community_0': {0: 11, 1: 4, 'balance': 0.36363636363636365},\n",
       " 'Community_1': {0: 10, 1: 6, 'balance': 0.6},\n",
       " 'Community_2': {0: 1, 1: 2, 'balance': 0.5}}"
      ]
     },
     "execution_count": 59,
     "metadata": {},
     "output_type": "execute_result"
    }
   ],
   "source": [
    "test = calculate_Fairness(karate, karateLabelPropagation, \"gender\")\n",
    "test\n"
   ]
  },
  {
   "cell_type": "code",
   "execution_count": 60,
   "metadata": {},
   "outputs": [
    {
     "data": {
      "text/plain": [
       "{'Community_0': {0: 12,\n",
       "  1: 7,\n",
       "  3: 5,\n",
       "  4: 2,\n",
       "  7: 3,\n",
       "  10: 2,\n",
       "  11: 1,\n",
       "  12: 2,\n",
       "  13: 3,\n",
       "  17: 2,\n",
       "  19: 2,\n",
       "  21: 2,\n",
       "  24: 2,\n",
       "  25: 2,\n",
       "  31: 3},\n",
       " 'Community_1': {32: 11,\n",
       "  33: 14,\n",
       "  2: 5,\n",
       "  8: 4,\n",
       "  9: 2,\n",
       "  14: 2,\n",
       "  15: 2,\n",
       "  18: 2,\n",
       "  20: 2,\n",
       "  22: 2,\n",
       "  23: 4,\n",
       "  26: 2,\n",
       "  27: 3,\n",
       "  28: 2,\n",
       "  29: 4,\n",
       "  30: 3},\n",
       " 'Community_2': {16: 2, 5: 2, 6: 2}}"
      ]
     },
     "execution_count": 60,
     "metadata": {},
     "output_type": "execute_result"
    }
   ],
   "source": [
    "testcommDegree = countInCommunityDegree(karate, karateLabelPropagation)\n",
    "testcommDegree\n"
   ]
  },
  {
   "cell_type": "code",
   "execution_count": 61,
   "metadata": {},
   "outputs": [
    {
     "data": {
      "text/plain": [
       "{'Community_0': {11: 1, 4: 2, 10: 2, 12: 2, 17: 2, 19: 2, 21: 2, 24: 2, 25: 2},\n",
       " 'Community_1': {9: 2, 14: 2, 15: 2, 18: 2, 20: 2, 22: 2, 26: 2, 28: 2},\n",
       " 'Community_2': {}}"
      ]
     },
     "execution_count": 61,
     "metadata": {},
     "output_type": "execute_result"
    }
   ],
   "source": [
    "testcommDegree = countInCommunityDegree(karate, karateLabelPropagation)\n",
    "testcommDegree\n",
    "\n",
    "\n",
    "karateLowDegreeNodes = getLowInCommunityDegreeNodes(testcommDegree)\n",
    "karateLowDegreeNodes\n"
   ]
  },
  {
   "cell_type": "code",
   "execution_count": 62,
   "metadata": {},
   "outputs": [
    {
     "name": "stdout",
     "output_type": "stream",
     "text": [
      "Fairness cannot  be fixed\n"
     ]
    }
   ],
   "source": [
    "fixCommunityFairness(karate, test, karateLowDegreeNodes)\n"
   ]
  },
  {
   "cell_type": "code",
   "execution_count": 20,
   "metadata": {},
   "outputs": [
    {
     "data": {
      "text/plain": [
       "[10, 11, 12, 17, 19]"
      ]
     },
     "execution_count": 20,
     "metadata": {},
     "output_type": "execute_result"
    }
   ],
   "source": [
    "getLowInCommunityDegreeNodesProtectedAttribute(\n",
    "    karate, karateLowDegreeNodes[\"Community_0\"], 0)\n"
   ]
  },
  {
   "cell_type": "code",
   "execution_count": 89,
   "metadata": {},
   "outputs": [
    {
     "name": "stdout",
     "output_type": "stream",
     "text": [
      "{0: 12, 1: 7, 3: 5, 4: 2, 7: 3, 10: 2, 11: 1, 12: 2, 13: 3, 17: 2, 19: 2, 21: 2, 24: 2, 25: 2, 31: 3}\n",
      "{32: 11, 33: 14, 2: 5, 8: 4, 9: 2, 14: 2, 15: 2, 18: 2, 20: 2, 22: 2, 23: 4, 26: 2, 27: 3, 28: 2, 29: 4, 30: 3}\n",
      "{16: 2, 5: 2, 6: 2}\n"
     ]
    }
   ],
   "source": [
    "for community in testcommDegree.values():\n",
    "    print(community)\n"
   ]
  },
  {
   "cell_type": "code",
   "execution_count": 82,
   "metadata": {},
   "outputs": [
    {
     "data": {
      "text/plain": [
       "{0: 12,\n",
       " 1: 7,\n",
       " 3: 5,\n",
       " 4: 2,\n",
       " 7: 3,\n",
       " 10: 2,\n",
       " 11: 1,\n",
       " 12: 2,\n",
       " 13: 3,\n",
       " 17: 2,\n",
       " 19: 2,\n",
       " 21: 2,\n",
       " 24: 2,\n",
       " 25: 2,\n",
       " 31: 3}"
      ]
     },
     "execution_count": 82,
     "metadata": {},
     "output_type": "execute_result"
    }
   ],
   "source": [
    "test1 = testcommDegree[\"Community0\"]\n",
    "test1\n"
   ]
  },
  {
   "cell_type": "code",
   "execution_count": 88,
   "metadata": {},
   "outputs": [
    {
     "data": {
      "text/plain": [
       "{4: 2,\n",
       " 7: 3,\n",
       " 10: 2,\n",
       " 11: 1,\n",
       " 12: 2,\n",
       " 13: 3,\n",
       " 17: 2,\n",
       " 19: 2,\n",
       " 21: 2,\n",
       " 24: 2,\n",
       " 25: 2,\n",
       " 31: 3}"
      ]
     },
     "execution_count": 88,
     "metadata": {},
     "output_type": "execute_result"
    }
   ],
   "source": [
    "test2 = dict(filter(lambda elem: elem[1] < len(\n",
    "    test1.keys()) * 30 / 100, test1.items()))\n",
    "test2\n"
   ]
  }
 ],
 "metadata": {
  "interpreter": {
   "hash": "b2a152c9c8174e8f19b1600c749953c43c503b31f710d00df083fd6ee6632082"
  },
  "kernelspec": {
   "display_name": "Python 3.9.7 ('base')",
   "language": "python",
   "name": "python3"
  },
  "language_info": {
   "codemirror_mode": {
    "name": "ipython",
    "version": 3
   },
   "file_extension": ".py",
   "mimetype": "text/x-python",
   "name": "python",
   "nbconvert_exporter": "python",
   "pygments_lexer": "ipython3",
   "version": "3.8.8"
  },
  "orig_nbformat": 4
 },
 "nbformat": 4,
 "nbformat_minor": 2
}
