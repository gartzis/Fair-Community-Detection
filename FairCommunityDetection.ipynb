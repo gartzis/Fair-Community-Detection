{
 "cells": [
  {
   "cell_type": "code",
   "execution_count": 13,
   "metadata": {},
   "outputs": [],
   "source": [
    "import numpy as np\n",
    "import pandas as pd\n",
    "import matplotlib.pyplot as plt\n",
    "import seaborn as sns\n",
    "import networkx as nx\n",
    "import os\n",
    "import node2vec"
   ]
  },
  {
   "cell_type": "code",
   "execution_count": 2,
   "metadata": {},
   "outputs": [],
   "source": [
    "path = \"Datasets/\""
   ]
  },
  {
   "cell_type": "code",
   "execution_count": 12,
   "metadata": {},
   "outputs": [],
   "source": [
    "def getProtectedAttributesTwitch(G, df):\n",
    "    protected_attributes = dict(zip(df[\"numeric_id\"], df[\"mature\"]))\n",
    "    newG = nx.set_node_attributes(G, protected_attributes, \"mature\")\n",
    "    return newG\n",
    "\n",
    "def getProtectedAttributesDeezer(G, df):\n",
    "    protected_attributes = dict(zip(df[\"id\"], df[\"target\"]))\n",
    "    newG = nx.set_node_attributes(G, protected_attributes, \"gender\")\n",
    "    return newG"
   ]
  },
  {
   "cell_type": "code",
   "execution_count": 5,
   "metadata": {},
   "outputs": [],
   "source": [
    "# Twitch gamers Graph\n",
    "twitchGamers_graph = nx.read_edgelist(\"{}twitch_gamers/large_twitch_edges.csv\".format(path), nodetype=int, delimiter=\",\")"
   ]
  },
  {
   "cell_type": "code",
   "execution_count": 6,
   "metadata": {},
   "outputs": [],
   "source": [
    "# Twitch gamers features\n",
    "twitchGamers_features = pd.read_csv(\"{}twitch_gamers/large_twitch_features.csv\".format(path))"
   ]
  },
  {
   "cell_type": "code",
   "execution_count": 7,
   "metadata": {},
   "outputs": [],
   "source": [
    "getProtectedAttributesTwitch(twitchGamers_graph, twitchGamers_features)"
   ]
  },
  {
   "cell_type": "code",
   "execution_count": 11,
   "metadata": {},
   "outputs": [],
   "source": [
    "# Deezer europe graph\n",
    "deezer_graph = nx.read_edgelist(\"{}deezer_europe/deezer_europe/deezer_europe_edges.csv\".format(path), nodetype=int, delimiter=\",\")"
   ]
  },
  {
   "cell_type": "code",
   "execution_count": 14,
   "metadata": {},
   "outputs": [],
   "source": [
    "# Read Deezer genders\n",
    "deezer_gendersDf = pd.read_csv(\"{}/deezer_europe/deezer_europe/deezer_europe_target.csv\".format(path))"
   ]
  },
  {
   "cell_type": "code",
   "execution_count": 15,
   "metadata": {},
   "outputs": [],
   "source": [
    "getProtectedAttributesDeezer(deezer_graph, deezer_gendersDf)"
   ]
  }
 ],
 "metadata": {
  "interpreter": {
   "hash": "b2a152c9c8174e8f19b1600c749953c43c503b31f710d00df083fd6ee6632082"
  },
  "kernelspec": {
   "display_name": "Python 3.9.7 ('base')",
   "language": "python",
   "name": "python3"
  },
  "language_info": {
   "codemirror_mode": {
    "name": "ipython",
    "version": 3
   },
   "file_extension": ".py",
   "mimetype": "text/x-python",
   "name": "python",
   "nbconvert_exporter": "python",
   "pygments_lexer": "ipython3",
   "version": "3.8.8"
  },
  "orig_nbformat": 4
 },
 "nbformat": 4,
 "nbformat_minor": 2
}
